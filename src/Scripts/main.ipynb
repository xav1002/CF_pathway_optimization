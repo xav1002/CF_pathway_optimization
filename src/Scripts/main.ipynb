{
 "cells": [
  {
   "cell_type": "markdown",
   "metadata": {},
   "source": [
    "0. Import Packages"
   ]
  },
  {
   "cell_type": "code",
   "execution_count": 14,
   "metadata": {},
   "outputs": [],
   "source": [
    "import sys\n",
    "sys.path.append('../Classes')\n",
    "sys.path.append('../Classes/Components')\n",
    "\n",
    "import numpy as np\n",
    "import pandas as pd\n",
    "import requests\n",
    "import re\n",
    "import networkx as nx\n",
    "\n",
    "from WholeCellConsortiumModel import WholeCellConsortiumModel\n",
    "from MPNG_Metabolite import MPNG_Metabolite\n",
    "from MPNG_Reaction import MPNG_Reaction\n",
    "from parse_KEGG_query import parse_KEGG"
   ]
  },
  {
   "cell_type": "markdown",
   "metadata": {},
   "source": [
    "1. Create Whole Cell Consortium Model \\\n",
    "Create MetabolicPathwayNetworkGraph from KEGG database."
   ]
  },
  {
   "cell_type": "code",
   "execution_count": 2,
   "metadata": {},
   "outputs": [
    {
     "name": "stdout",
     "output_type": "stream",
     "text": [
      "https://rest.kegg.jp/get/R00134\n",
      "ENTRY       R00134                      Reaction\n",
      "NAME        formate:NADP+ oxidoreductase\n",
      "DEFINITION  Formate + NADP+ <=> CO2 + NADPH + H+\n",
      "EQUATION    C00058 + C00006 <=> C00011 + C00005 + C00080\n",
      "RCLASS      RC00001  C00005_C00006\n",
      "            RC02796  C00011_C00058\n",
      "ENZYME      1.17.1.10\n",
      "PATHWAY     rn00680  Methane metabolism\n",
      "            rn00720  Other carbon fixation pathways\n",
      "            rn01100  Metabolic pathways\n",
      "            rn01120  Microbial metabolism in diverse environments\n",
      "            rn01200  Carbon metabolism\n",
      "MODULE      M00377  Reductive acetyl-CoA pathway (Wood-Ljungdahl pathway)\n",
      "BRITE       Enzymatic reactions [BR:br08201]\n",
      "             1. Oxidoreductase reactions\n",
      "              1.17  Acting on CH or CH2 groups\n",
      "               1.17.1  With NAD+ or NADP+ as acceptor\n",
      "                1.17.1.10\n",
      "                 R00134  Formate + NADP+ <=> CO2 + NADPH + H+\n",
      "            Overall reaction [br08210.html]\n",
      "             Carbon fixation\n",
      "              R00134\n",
      "ORTHOLOGY   K05299  formate dehydrogenase (NADP+) alpha subunit [EC:1.17.1.10]\n",
      "            K15022  formate dehydrogenase (NADP+) beta subunit [EC:1.17.1.10]\n",
      "DBLINKS     RHEA: 12003\n",
      "\n"
     ]
    }
   ],
   "source": [
    "# test = parse_KEGG(('3.5.1.68'),'get')\n",
    "test = parse_KEGG(('R00134'),'get')\n",
    "# test = parse_KEGG(('C00058'),'get')"
   ]
  },
  {
   "cell_type": "code",
   "execution_count": 31,
   "metadata": {},
   "outputs": [
    {
     "name": "stdout",
     "output_type": "stream",
     "text": [
      "Graph with 2 nodes and 1 edges\n",
      "[(<MPNG_Metabolite.MPNG_Metabolite object at 0x0000020FED49A450>, <MPNG_Metabolite.MPNG_Metabolite object at 0x0000020FED49B170>, {'f_stoich': 1, 'r_stoich': -1})]\n"
     ]
    }
   ],
   "source": [
    "test = nx.Graph()\n",
    "meta_1 = MPNG_Metabolite('a',['a','b'],'test',1.23,['asdf','asdf'])\n",
    "meta_2 = MPNG_Metabolite('A',['a','b'],'test',1.23,['asdf','asdf'])\n",
    "test.add_node(meta_1)\n",
    "test.add_node(meta_2)\n",
    "test.add_edge(meta_1,meta_2,f_stoich=1,r_stoich=-1)\n",
    "print(test)\n",
    "print(test.edges(data=True))\n"
   ]
  }
 ],
 "metadata": {
  "kernelspec": {
   "display_name": "CF_pathway_optimization",
   "language": "python",
   "name": "python3"
  },
  "language_info": {
   "codemirror_mode": {
    "name": "ipython",
    "version": 3
   },
   "file_extension": ".py",
   "mimetype": "text/x-python",
   "name": "python",
   "nbconvert_exporter": "python",
   "pygments_lexer": "ipython3",
   "version": "3.12.6"
  }
 },
 "nbformat": 4,
 "nbformat_minor": 2
}
