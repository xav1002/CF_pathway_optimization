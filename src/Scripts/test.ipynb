{
 "cells": [
  {
   "cell_type": "markdown",
   "metadata": {},
   "source": [
    "0. Import Packages"
   ]
  },
  {
   "cell_type": "code",
   "execution_count": 2,
   "metadata": {},
   "outputs": [],
   "source": [
    "import sys\n",
    "sys.path.append('../Classes')\n",
    "sys.path.append('../Classes/Components')\n",
    "sys.path.append('../../Lib/site-packages')\n",
    "\n",
    "from pyvis.network import Network\n",
    "import numpy as np\n",
    "import pandas as pd\n",
    "import requests\n",
    "import re\n",
    "import json\n",
    "import networkx as nx\n",
    "from equilibrator_api import ComponentContribution, Q_\n",
    "\n",
    "from WholeCellConsortiumModel import WholeCellConsortiumModel\n",
    "from MetabolicPathwayNetworkGraph import MetabolicPathwayNetworkGraph\n",
    "from MPNG_Metabolite import MPNG_Metabolite\n",
    "from MPNG_Reaction import MPNG_Reaction\n",
    "from parse_KEGG_query import parse_KEGG"
   ]
  },
  {
   "cell_type": "markdown",
   "metadata": {},
   "source": [
    "Test querying all metabolites in KEGG"
   ]
  },
  {
   "cell_type": "code",
   "execution_count": 3,
   "metadata": {},
   "outputs": [],
   "source": [
    "from io import StringIO\n",
    "import re\n",
    "\n",
    "# req = requests.get('https://rest.kegg.jp/list/compound')\n",
    "# metabolite_entries = []\n",
    "# req_2 = StringIO(req.text)\n",
    "# for line_level_1 in req_2:\n",
    "#     if line_level_1[0] == 'C':\n",
    "#         metabolite_entries.append(re.split('\\t',line_level_1.strip())[0].strip())\n",
    "\n",
    "# req = requests.get('https://rest.kegg.jp/list/reaction')\n",
    "# reaction_entries = []\n",
    "# req_2 = StringIO(req.text)\n",
    "# for line_level_1 in req_2:\n",
    "#     if line_level_1[0] == 'R':\n",
    "#         reaction_entries.append(re.split('\\t',line_level_1.strip())[0].strip())\n",
    "\n",
    "req = requests.get('https://rest.kegg.jp/list/enzyme')\n",
    "enzyme_entries = []\n",
    "req_2 = StringIO(req.text)\n",
    "for line_level_1 in req_2:\n",
    "    enzyme_id = re.split('\\t',line_level_1.strip())[0].strip()\n",
    "    if '.' in enzyme_id:\n",
    "        enzyme_entries.append(enzyme_id)"
   ]
  },
  {
   "cell_type": "code",
   "execution_count": null,
   "metadata": {},
   "outputs": [],
   "source": [
    "print(enzyme_entries)\n",
    "\n",
    "# [metabolites,[],[]] = parse_KEGG(metabolite_entries)\n",
    "# [[],reactions,[]] = parse_KEGG(reaction_entries)\n",
    "[[],[],enzymes] = parse_KEGG(enzyme_entries)\n",
    "# print(metabolites[0].BRITE_dict,metabolites[0].generic)"
   ]
  },
  {
   "cell_type": "code",
   "execution_count": 5,
   "metadata": {},
   "outputs": [],
   "source": [
    "# with open('metabolites.json', 'w', encoding='utf-8') as f:\n",
    "#     json.dump(list(map(lambda x: x.toJSON(),metabolites)), f, ensure_ascii=False, indent=4)\n",
    "# with open('reactions.json', 'w', encoding='utf-8') as f:\n",
    "#     json.dump(list(map(lambda x: x.toJSON(),reactions)), f, ensure_ascii=False, indent=4)\n",
    "with open('enzymes.json', 'w', encoding='utf-8') as f:\n",
    "    json.dump(list(map(lambda x: x.toJSON(),enzymes)), f, ensure_ascii=False, indent=4)\n"
   ]
  },
  {
   "cell_type": "markdown",
   "metadata": {},
   "source": [
    "PubChem Access Test"
   ]
  },
  {
   "cell_type": "code",
   "execution_count": null,
   "metadata": {},
   "outputs": [],
   "source": [
    "import json\n",
    "import requests\n",
    "from io import StringIO\n",
    "import re\n",
    "\n",
    "req = requests.get('https://pubchem.ncbi.nlm.nih.gov/rest/pug/compound/name/butanol/cids/JSON')\n",
    "print(json.loads(req.text))"
   ]
  },
  {
   "cell_type": "markdown",
   "metadata": {},
   "source": [
    "BRITE query test"
   ]
  },
  {
   "cell_type": "code",
   "execution_count": null,
   "metadata": {},
   "outputs": [],
   "source": [
    "import sys\n",
    "sys.path.append('../Classes')\n",
    "sys.path.append('../Classes/Components')\n",
    "sys.path.append('../../Lib/site-packages')\n",
    "from parse_KEGG_query import parse_KEGG\n",
    "\n",
    "test = parse_KEGG(['C00469'])\n",
    "print(test[0][0].BRITE_dict)"
   ]
  },
  {
   "cell_type": "markdown",
   "metadata": {},
   "source": [
    "BRENDA Access Test"
   ]
  },
  {
   "cell_type": "code",
   "execution_count": null,
   "metadata": {},
   "outputs": [],
   "source": [
    "from zeep import Client\n",
    "import hashlib\n",
    "import json\n",
    "import requests\n",
    "from io import StringIO\n",
    "import re\n",
    "\n",
    "req = requests.get('https://rest.kegg.jp/list/enzyme')\n",
    "enzyme_entries = []\n",
    "req_2 = StringIO(req.text)\n",
    "for line_level_1 in req_2:\n",
    "    enzyme_id = re.split('\\t',line_level_1.strip())[0].strip()\n",
    "    if '.' in enzyme_id:\n",
    "        enzyme_entries.append(enzyme_id)\n",
    "# print(enzyme_entries)\n",
    "\n",
    "wsdl = \"https://www.brenda-enzymes.org/soap/brenda_zeep.wsdl\"\n",
    "password = hashlib.sha256(\"b3br?B$iDjpeJm77\".encode(\"utf-8\")).hexdigest()\n",
    "client = Client(wsdl)\n",
    "# parameters = ( \"v.a.xu@wustl.edu\",password,\"ecNumber*1.1.1.1\",\"organism*Homo sapiens\",\"kmValue*\",\n",
    "#               \"kmValueMaximum*\",\"substrate*\",\"commentary*\",\"ligandStructureId*\",\"literature*\")\n",
    "# resultString = client.service.getKmValue(*parameters)\n",
    "# print (resultString)\n",
    "\n",
    "enz = {}\n",
    "parameters = (\"v.a.xu@wustl.edu\",password,\"ecNumber*1.1.1.1\", \"naturalSubstrate*\", \"naturalReactionPartners*\", \"organism*\", \"ligandStructureId*\")\n",
    "res2 = client.service.getNaturalSubstrate(*parameters)\n",
    "natRxnPartners = [x['naturalReactionPartners'] for x in res2]\n",
    "print('res2',len(res2),res2[0])\n",
    "\n",
    "# parameters = (\"v.a.xu@wustl.edu\",password,\"ecNumber*1.1.1.1\", \"naturalProduct*\", \"naturalReactionPartners*\", \"organism*\", \"ligandStructureId*\")\n",
    "# resultString = client.service.getNaturalProduct(*parameters)\n",
    "# print('res3',len(resultString),resultString[0])\n",
    "\n",
    "# parameters = (\"v.a.xu@wustl.edu\",password,\"ecNumber*1.1.1.1*1.1.1.2\", \"naturalProduct*\", \"naturalReactionPartners*\", \"organism*\", \"ligandStructureId*\")\n",
    "# res3 = client.service.getNaturalProduct(*parameters)\n",
    "# print('res3',res3)\n",
    "\n",
    "parameters = (\"v.a.xu@wustl.edu\",password,\"ecNumber*1.1.1.1\", \"organism*\", \"naturalSubstrates*\", \"organismNaturalSubstrates*\", \"commentaryNaturalSubstrates*\", \"naturalProducts*\", \"commentaryNaturalProducts*\", \"organismNaturalProducts*\", \"reversibility*\")\n",
    "print(*parameters)\n",
    "resultString = client.service.getNaturalSubstratesProducts(*parameters)\n",
    "print('res4',len(resultString),resultString[0])\n",
    "print('res4_2',resultString[1]['naturalSubstrates'])\n",
    "test = resultString[1]['naturalSubstrates']\n",
    "split = test.split(' + ')\n",
    "print('test',test)\n",
    "print('split',split)"
   ]
  },
  {
   "cell_type": "markdown",
   "metadata": {},
   "source": [
    "JSON Test"
   ]
  },
  {
   "cell_type": "code",
   "execution_count": 2,
   "metadata": {},
   "outputs": [],
   "source": [
    "import json\n",
    "test = {'a':1,'b':2,'c':4}\n",
    "test2 = {'d':7}\n",
    "\n",
    "with open('test.json', 'w', encoding='utf-8') as f:\n",
    "    json.dump(test2, f, ensure_ascii=False, indent=4)"
   ]
  },
  {
   "cell_type": "markdown",
   "metadata": {},
   "source": [
    "Show generic compounds"
   ]
  },
  {
   "cell_type": "code",
   "execution_count": null,
   "metadata": {},
   "outputs": [],
   "source": [
    "import sys\n",
    "sys.path.append('../Classes')\n",
    "sys.path.append('../Classes/Components')\n",
    "sys.path.append('../../Lib/site-packages')\n",
    "\n",
    "from io import StringIO\n",
    "import re\n",
    "import json\n",
    "\n",
    "import numpy as np\n",
    "\n",
    "import requests\n",
    "from WholeCellConsortiumModel import WholeCellConsortiumModel\n",
    "from MetabolicPathwayNetworkGraph import MetabolicPathwayNetworkGraph\n",
    "from MPNG_Metabolite import MPNG_Metabolite\n",
    "from MPNG_Reaction import MPNG_Reaction\n",
    "from parse_KEGG_query import parse_KEGG\n",
    "\n",
    "# req = requests.get('https://rest.kegg.jp/list/compound')\n",
    "# metabolite_entries = []\n",
    "# req_2 = StringIO(req.text)\n",
    "# for line_level_1 in req_2:\n",
    "#     if line_level_1[0] == 'C':\n",
    "#         metabolite_entries.append(re.split('\\t',line_level_1.strip())[0].strip())\n",
    "\n",
    "# [metabolites,[],[]] = parse_KEGG(metabolite_entries)\n",
    "\n",
    "# with open('metabolites.json', 'w', encoding='utf-8') as f:\n",
    "#     json.dump(list(map(lambda x: x.toJSON(),metabolites)), f, ensure_ascii=False, indent=4)\n",
    "\n",
    "wccm = WholeCellConsortiumModel()\n",
    "wccm.identify_generic_compounds()"
   ]
  },
  {
   "cell_type": "markdown",
   "metadata": {},
   "source": [
    "Set and save reaction reversibilities"
   ]
  },
  {
   "cell_type": "code",
   "execution_count": null,
   "metadata": {},
   "outputs": [
    {
     "name": "stdout",
     "output_type": "stream",
     "text": [
      "number of metabolites:  19435\n",
      "number of reactions:  12180\n",
      "meta not listed in KEGG 'C22984'\n",
      "generating COBRA model...\n",
      "adding COBRA reactions...\n",
      "all COBRA reactions added\n",
      "generating COBRA boundaries...\n",
      "COBRA model ready\n",
      "parsed_req 0 {'IdentifierList': {'CID': [962]}} H2O\n",
      "parsed_req 1 {'IdentifierList': {'CID': [5957]}} ATP\n",
      "parsed_req 2 {'IdentifierList': {'CID': [5892, 5893, 15938971]}} NAD+\n",
      "parsed_req 3 {'IdentifierList': {'CID': [439153]}} NADH\n",
      "parsed_req 4 {'IdentifierList': {'CID': [5884]}} NADPH\n"
     ]
    }
   ],
   "source": [
    "import sys\n",
    "sys.path.insert(0, '..\\\\Classes')\n",
    "sys.path.insert(0, '..\\\\Classes\\\\Components')\n",
    "sys.path.insert(0, '..\\\\..\\\\Lib\\\\site-packages')\n",
    "\n",
    "import numpy as np\n",
    "\n",
    "from WholeCellConsortiumModel import WholeCellConsortiumModel\n",
    "from MetabolicPathwayNetworkGraph import MetabolicPathwayNetworkGraph\n",
    "from MPNG_Metabolite import MPNG_Metabolite\n",
    "from MPNG_Reaction import MPNG_Reaction\n",
    "from parse_KEGG_query import parse_KEGG\n",
    "\n",
    "wccm = WholeCellConsortiumModel()\n",
    "wccm.generate_whole_network('test')\n",
    "wccm.match_KEGG_compounds_to_BRENDA()\n",
    "wccm.set_reaction_reversibility()"
   ]
  },
  {
   "cell_type": "markdown",
   "metadata": {},
   "source": [
    "Tests on WCCM"
   ]
  },
  {
   "cell_type": "code",
   "execution_count": null,
   "metadata": {},
   "outputs": [],
   "source": [
    "import sys\n",
    "sys.path.insert(0, '..\\\\Classes')\n",
    "sys.path.insert(0, '..\\\\Classes\\\\Components')\n",
    "sys.path.insert(0, '..\\\\..\\\\Lib\\\\site-packages')\n",
    "print(sys.path)\n",
    "\n",
    "from WholeCellConsortiumModel import WholeCellConsortiumModel\n",
    "from MetabolicPathwayNetworkGraph import MetabolicPathwayNetworkGraph\n",
    "from MPNG_Metabolite import MPNG_Metabolite\n",
    "from MPNG_Reaction import MPNG_Reaction\n",
    "from parse_KEGG_query import parse_KEGG\n",
    "\n",
    "wccm = WholeCellConsortiumModel()\n",
    "wccm.generate_whole_network('test')\n",
    "test_graph_2 = wccm.seek_optimal_network('test',['C00048'],['C00469','C00011'],2,2)\n",
    "wccm.visualize_graph('test')\n",
    "\n",
    "# STARTHERE:\n",
    "# 1. Enzyme query from BRENDA for reaction reversibility\n",
    "# 2. Generic compounds assignment based on BRITE heirarchy"
   ]
  }
 ],
 "metadata": {
  "kernelspec": {
   "display_name": "CF_pathway_optimization",
   "language": "python",
   "name": "python3"
  },
  "language_info": {
   "codemirror_mode": {
    "name": "ipython",
    "version": 3
   },
   "file_extension": ".py",
   "mimetype": "text/x-python",
   "name": "python",
   "nbconvert_exporter": "python",
   "pygments_lexer": "ipython3",
   "version": "3.12.6"
  }
 },
 "nbformat": 4,
 "nbformat_minor": 2
}
