{
 "cells": [
  {
   "cell_type": "markdown",
   "metadata": {},
   "source": [
    "0. Import Packages"
   ]
  },
  {
   "cell_type": "code",
   "execution_count": null,
   "metadata": {},
   "outputs": [],
   "source": [
    "import sys\n",
    "sys.path.append('../Classes')\n",
    "sys.path.append('../Classes/Components')\n",
    "sys.path.append('../../Lib/site-packages')\n",
    "\n",
    "from pyvis.network import Network\n",
    "import numpy as np\n",
    "import pandas as pd\n",
    "import requests\n",
    "import re\n",
    "import json\n",
    "import networkx as nx\n",
    "from equilibrator_api import ComponentContribution\n",
    "\n",
    "from WholeCellConsortiumModel import WholeCellConsortiumModel\n",
    "from MetabolicPathwayNetworkGraph import MetabolicPathwayNetworkGraph\n",
    "from MPNG_Metabolite import MPNG_Metabolite\n",
    "from MPNG_Reaction import MPNG_Reaction\n",
    "from parse_KEGG_query import parse_KEGG"
   ]
  },
  {
   "cell_type": "markdown",
   "metadata": {},
   "source": [
    "Test querying all metabolites in KEGG"
   ]
  },
  {
   "cell_type": "code",
   "execution_count": null,
   "metadata": {},
   "outputs": [],
   "source": [
    "from io import StringIO\n",
    "import re\n",
    "\n",
    "req = requests.get('https://rest.kegg.jp/list/compound')\n",
    "metabolite_entries = []\n",
    "req_2 = StringIO(req.text)\n",
    "for line_level_1 in req_2:\n",
    "    if line_level_1[0] == 'C':\n",
    "        metabolite_entries.append(re.split('\\t',line_level_1.strip())[0].strip())\n",
    "\n",
    "req = requests.get('https://rest.kegg.jp/list/reaction')\n",
    "reaction_entries = []\n",
    "req_2 = StringIO(req.text)\n",
    "for line_level_1 in req_2:\n",
    "    if line_level_1[0] == 'R':\n",
    "        reaction_entries.append(re.split('\\t',line_level_1.strip())[0].strip())\n",
    "\n",
    "req = requests.get('https://rest.kegg.jp/list/enzyme')\n",
    "enzyme_entries = []\n",
    "req_2 = StringIO(req.text)\n",
    "for line_level_1 in req_2:\n",
    "    enzyme_id = re.split('\\t',line_level_1.strip())[0].strip()\n",
    "    if '.' in enzyme_id:\n",
    "        enzyme_entries.append(enzyme_id)\n",
    "\n",
    "print(metabolite_entries)"
   ]
  },
  {
   "cell_type": "code",
   "execution_count": null,
   "metadata": {},
   "outputs": [],
   "source": [
    "print(len(metabolite_entries))\n",
    "\n",
    "# [metabolites,[],[]] = parse_KEGG(metabolite_entries)\n",
    "# [[],reactions,[]] = parse_KEGG(reaction_entries)\n",
    "# [[],[],enzymes] = parse_KEGG(enzyme_entries)"
   ]
  },
  {
   "cell_type": "code",
   "execution_count": null,
   "metadata": {},
   "outputs": [],
   "source": [
    "def recursive_test(n:float):\n",
    "    if n > 100:\n",
    "        return n\n",
    "\n",
    "    return recursive_test(n+6)\n",
    "\n",
    "print(recursive_test(2))"
   ]
  },
  {
   "cell_type": "markdown",
   "metadata": {},
   "source": [
    "Tests on WCCM"
   ]
  },
  {
   "cell_type": "code",
   "execution_count": null,
   "metadata": {},
   "source": [
    "# with open('metabolites.json', 'w', encoding='utf-8') as f:\n",
    "#     json.dump(list(map(lambda x: x.toJSON(),metabolites)), f, ensure_ascii=False, indent=4)\n",
    "# with open('reactions.json', 'w', encoding='utf-8') as f:\n",
    "#     json.dump(list(map(lambda x: x.toJSON(),reactions)), f, ensure_ascii=False, indent=4)\n",
    "# with open('enzymes.json', 'w', encoding='utf-8') as f:\n",
    "#     json.dump(list(map(lambda x: x.toJSON(),enzymes)), f, ensure_ascii=False, indent=4)\n",
    "\n",
    "import sys\n",
    "sys.path.append('../Classes')\n",
    "sys.path.append('../Classes/Components')\n",
    "sys.path.append('../../Lib/site-packages')\n",
    "\n",
    "from WholeCellConsortiumModel import WholeCellConsortiumModel\n",
    "from MetabolicPathwayNetworkGraph import MetabolicPathwayNetworkGraph\n",
    "from MPNG_Metabolite import MPNG_Metabolite\n",
    "from MPNG_Reaction import MPNG_Reaction\n",
    "from parse_KEGG_query import parse_KEGG\n",
    "\n",
    "wccm = WholeCellConsortiumModel()\n",
    "wccm.seek_optimal_pathway('test',['C01585'],['C00469','C00033'])\n",
    "test = wccm.prune_graph('test','C01585',['C00469','C00033'])\n",
    "test_graph_2 = wccm.calculate_graph_metrics('test',['C01585'],['C00469','C00033'],[],[])\n",
    "print(test_graph_2.mass_balance_sln)\n",
    "wccm.visualize_graph('test')"
   ]
  },
  {
   "cell_type": "markdown",
   "metadata": {},
   "source": [
    "Test for eQuilibrator"
   ]
  },
  {
   "cell_type": "code",
   "execution_count": null,
   "metadata": {},
   "outputs": [],
   "source": [
    "cc = ComponentContribution()\n",
    "formate_compound = cc.get_compound('kegg:C00058')\n",
    "print(dir(formate_compound))"
   ]
  },
  {
   "cell_type": "markdown",
   "metadata": {},
   "source": [
    "Test for parse_KEGG()"
   ]
  },
  {
   "cell_type": "code",
   "execution_count": null,
   "metadata": {},
   "outputs": [],
   "source": [
    "# test = parse_KEGG(['3.5.1.68'])\n",
    "# test = parse_KEGG(['R00134'],cc)\n",
    "# test = parse_KEGG(['C00005'],cc)"
   ]
  },
  {
   "cell_type": "markdown",
   "metadata": {},
   "source": [
    "Test for usage of nx.Graph"
   ]
  },
  {
   "cell_type": "code",
   "execution_count": null,
   "metadata": {},
   "outputs": [],
   "source": [
    "# test = nx.Graph()\n",
    "# meta_1 = MPNG_Metabolite('a',['a','b'],'test',1.23,['asdf','asdf'])\n",
    "# meta_2 = MPNG_Metabolite('A',['a','b'],'test',1.23,['asdf','asdf'])\n",
    "# test.add_node(meta_1)\n",
    "# test.add_node(meta_2)\n",
    "# test.add_edge(meta_1,meta_2,f_stoich=1,r_stoich=-1)\n",
    "# print(test)\n",
    "# print(test.edges(data=True))\n"
   ]
  },
  {
   "cell_type": "markdown",
   "metadata": {},
   "source": [
    "Test for creating a WholeCellConsortiumModel class and creating a new graph"
   ]
  },
  {
   "cell_type": "code",
   "execution_count": null,
   "metadata": {},
   "outputs": [],
   "source": [
    "WCCM = WholeCellConsortiumModel()\n",
    "graph: MetabolicPathwayNetworkGraph = WCCM.grow_graph_test()\n",
    "\n",
    "# HTML(r'C:\\Users\\xuvin\\py_repos\\CF_pathway_optimization\\src\\Scripts\\test.html')"
   ]
  },
  {
   "cell_type": "code",
   "execution_count": null,
   "metadata": {},
   "outputs": [],
   "source": [
    "potential_targets = ['C00024','C00010','C00332','C00136','C05269','C01144','C00003','C00004','C00080','C05268','C00877','C00001','C05271','C00138','C00139','C00005','C05270','C00006','C00033','C00246','C01585','C00058','C00011','C00469','C00084','C00282']\n",
    "for x in potential_targets:\n",
    "    if x in graph.metabolites.keys():\n",
    "        print(x+' in current network: '+str(x in graph.metabolites.keys()))\n",
    "for x in graph.metabolites.keys():\n",
    "    print(x)\n",
    "print(len(graph.metabolites.keys()))"
   ]
  },
  {
   "cell_type": "code",
   "execution_count": null,
   "metadata": {},
   "outputs": [],
   "source": [
    "net = Network(notebook=True,cdn_resources=\"local\",width=\"100%\",height=\"600px\")\n",
    "test = nx.complete_graph(5)\n",
    "net.from_nx(test)\n",
    "print(net.nodes)\n",
    "net.nodes[2]['size'] = 20\n",
    "net.nodes[2]['shape'] = 'image'\n",
    "net.nodes[2]['image'] = 'https://rest.kegg.jp/get/C00001/image'\n",
    "print(net.nodes)\n",
    "net.show(r'C:\\Users\\xuvin\\py_repos\\CF_pathway_optimization\\src\\Scripts\\test2.html')"
   ]
  }
 ],
 "metadata": {
  "kernelspec": {
   "display_name": "CF_pathway_optimization",
   "language": "python",
   "name": "python3"
  },
  "language_info": {
   "codemirror_mode": {
    "name": "ipython",
    "version": 3
   },
   "file_extension": ".py",
   "mimetype": "text/x-python",
   "name": "python",
   "nbconvert_exporter": "python",
   "pygments_lexer": "ipython3",
   "version": "3.12.6"
  }
 },
 "nbformat": 4,
 "nbformat_minor": 2
}
