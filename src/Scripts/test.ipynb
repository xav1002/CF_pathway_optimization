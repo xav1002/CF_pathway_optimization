{
 "cells": [
  {
   "cell_type": "markdown",
   "metadata": {},
   "source": [
    "0. Import Packages"
   ]
  },
  {
   "cell_type": "code",
   "execution_count": 1,
   "metadata": {},
   "outputs": [],
   "source": [
    "import sys\n",
    "sys.path.append('../Classes')\n",
    "sys.path.append('../Classes/Components')\n",
    "\n",
    "import numpy as np\n",
    "import pandas as pd\n",
    "import requests\n",
    "import re\n",
    "import networkx as nx\n",
    "\n",
    "from WholeCellConsortiumModel import WholeCellConsortiumModel\n",
    "from MPNG_Metabolite import MPNG_Metabolite\n",
    "from MPNG_Reaction import MPNG_Reaction\n",
    "from parse_KEGG_query import parse_KEGG"
   ]
  },
  {
   "cell_type": "markdown",
   "metadata": {},
   "source": [
    "Test for parse_KEGG()"
   ]
  },
  {
   "cell_type": "code",
   "execution_count": 2,
   "metadata": {},
   "outputs": [
    {
     "name": "stdout",
     "output_type": "stream",
     "text": [
      "https://rest.kegg.jp/get/R00134\n",
      "{'C00058': -1, 'C00006': -1, 'C00011': 1, 'C00005': 1, 'C00080': 1}\n",
      "['C00058', 'C00006', 'C00011', 'C00005', 'C00080']\n"
     ]
    }
   ],
   "source": [
    "# test = parse_KEGG(['3.5.1.68'],'get')\n",
    "test = parse_KEGG(['R00134'],'get')\n",
    "# test = parse_KEGG(['C00058'],'get')"
   ]
  },
  {
   "cell_type": "markdown",
   "metadata": {},
   "source": [
    "Test for usage of nx.Graph"
   ]
  },
  {
   "cell_type": "code",
   "execution_count": 3,
   "metadata": {},
   "outputs": [
    {
     "name": "stdout",
     "output_type": "stream",
     "text": [
      "Graph with 2 nodes and 1 edges\n",
      "[(<MPNG_Metabolite.MPNG_Metabolite object at 0x000002A4CB886120>, <MPNG_Metabolite.MPNG_Metabolite object at 0x000002A4EF94C440>, {'f_stoich': 1, 'r_stoich': -1})]\n"
     ]
    }
   ],
   "source": [
    "test = nx.Graph()\n",
    "meta_1 = MPNG_Metabolite('a',['a','b'],'test',1.23,['asdf','asdf'])\n",
    "meta_2 = MPNG_Metabolite('A',['a','b'],'test',1.23,['asdf','asdf'])\n",
    "test.add_node(meta_1)\n",
    "test.add_node(meta_2)\n",
    "test.add_edge(meta_1,meta_2,f_stoich=1,r_stoich=-1)\n",
    "print(test)\n",
    "print(test.edges(data=True))\n"
   ]
  },
  {
   "cell_type": "markdown",
   "metadata": {},
   "source": [
    "Test for creating a WholeCellConsortiumModel class"
   ]
  },
  {
   "cell_type": "code",
   "execution_count": null,
   "metadata": {},
   "outputs": [],
   "source": [
    "WCCM = WholeCellConsortiumModel()\n"
   ]
  }
 ],
 "metadata": {
  "kernelspec": {
   "display_name": "CF_pathway_optimization",
   "language": "python",
   "name": "python3"
  },
  "language_info": {
   "codemirror_mode": {
    "name": "ipython",
    "version": 3
   },
   "file_extension": ".py",
   "mimetype": "text/x-python",
   "name": "python",
   "nbconvert_exporter": "python",
   "pygments_lexer": "ipython3",
   "version": "3.12.6"
  }
 },
 "nbformat": 4,
 "nbformat_minor": 2
}
