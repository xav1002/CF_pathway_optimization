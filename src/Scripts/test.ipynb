{
 "cells": [
  {
   "cell_type": "markdown",
   "metadata": {},
   "source": [
    "0. Import Packages"
   ]
  },
  {
   "cell_type": "code",
   "execution_count": 1,
   "metadata": {},
   "outputs": [],
   "source": [
    "import sys\n",
    "sys.path.append('../Classes')\n",
    "sys.path.append('../Classes/Components')\n",
    "sys.path.append('../../Lib')\n",
    "\n",
    "from pyvis.network import Network\n",
    "import numpy as np\n",
    "import pandas as pd\n",
    "import requests\n",
    "import re\n",
    "import networkx as nx\n",
    "\n",
    "from WholeCellConsortiumModel import WholeCellConsortiumModel\n",
    "from MPNG_Metabolite import MPNG_Metabolite\n",
    "from MPNG_Reaction import MPNG_Reaction\n",
    "from parse_KEGG_query import parse_KEGG"
   ]
  },
  {
   "cell_type": "markdown",
   "metadata": {},
   "source": [
    "Test for parse_KEGG()"
   ]
  },
  {
   "cell_type": "code",
   "execution_count": 2,
   "metadata": {},
   "outputs": [
    {
     "name": "stdout",
     "output_type": "stream",
     "text": [
      "https://rest.kegg.jp/get/R00134\n",
      "R00134\n"
     ]
    }
   ],
   "source": [
    "# test = parse_KEGG(['3.5.1.68'])\n",
    "test = parse_KEGG(['R00134'])\n",
    "# test = parse_KEGG(['C00058'])"
   ]
  },
  {
   "cell_type": "markdown",
   "metadata": {},
   "source": [
    "Test for usage of nx.Graph"
   ]
  },
  {
   "cell_type": "code",
   "execution_count": 3,
   "metadata": {},
   "outputs": [
    {
     "name": "stdout",
     "output_type": "stream",
     "text": [
      "Graph with 2 nodes and 1 edges\n",
      "[(<MPNG_Metabolite.MPNG_Metabolite object at 0x000001F10D7EE060>, <MPNG_Metabolite.MPNG_Metabolite object at 0x000001F16C82F0B0>, {'f_stoich': 1, 'r_stoich': -1})]\n"
     ]
    }
   ],
   "source": [
    "test = nx.Graph()\n",
    "meta_1 = MPNG_Metabolite('a',['a','b'],'test',1.23,['asdf','asdf'])\n",
    "meta_2 = MPNG_Metabolite('A',['a','b'],'test',1.23,['asdf','asdf'])\n",
    "test.add_node(meta_1)\n",
    "test.add_node(meta_2)\n",
    "test.add_edge(meta_1,meta_2,f_stoich=1,r_stoich=-1)\n",
    "print(test)\n",
    "print(test.edges(data=True))\n"
   ]
  },
  {
   "cell_type": "markdown",
   "metadata": {},
   "source": [
    "Test for creating a WholeCellConsortiumModel class and creating a new graph"
   ]
  },
  {
   "cell_type": "code",
   "execution_count": 8,
   "metadata": {},
   "outputs": [
    {
     "name": "stdout",
     "output_type": "stream",
     "text": [
      "https://rest.kegg.jp/get/C00058\n",
      "['R00134', 'R00152', 'R00212', 'R00424', 'R00425', 'R00518', 'R00519', 'R00521', 'R00522', 'R00524', 'R00525', 'R00526', 'R00527', 'R00604', 'R00614', 'R00653', 'R00753', 'R00943', 'R00944', 'R00988', 'R01305', 'R01959', 'R02238', 'R02351', 'R02509', 'R02604', 'R03087', 'R03146', 'R03204', 'R03215', 'R03472', 'R03728', 'R03907', 'R04268', 'R04283', 'R04488', 'R04911', 'R05046', 'R05296', 'R05635', 'R05640', 'R05731', 'R05865', 'R06940', 'R06974', 'R06975', 'R06987', 'R07281', 'R07290', 'R07303', 'R07363', 'R07364', 'R07662', 'R07983', 'R08060', 'R08451', 'R08864', 'R09094', 'R09126', 'R09145', 'R09152', 'R09185', 'R09374', 'R09481', 'R09494', 'R09556', 'R10301', 'R10348', 'R10356', 'R10376', 'R10511', 'R10515', 'R10797', 'R11037', 'R11313', 'R11592', 'R11633', 'R11634', 'R11635', 'R11636', 'R11818', 'R11919', 'R11944', 'R12118', 'R12121', 'R12317', 'R12322', 'R12323', 'R12451', 'R12754', 'R13331', 'R13381']\n",
      "https://rest.kegg.jp/get/R00134+R00152+R00212+R00424+R00425+R00518+R00519+R00521+R00522+R00524+R00525+R00526+R00527+R00604+R00614+R00653+R00753+R00943+R00944+R00988+R01305+R01959+R02238+R02351+R02509+R02604+R03087+R03146+R03204+R03215+R03472+R03728+R03907+R04268+R04283+R04488+R04911+R05046+R05296+R05635+R05640+R05731+R05865+R06940+R06974+R06975+R06987+R07281+R07290+R07303+R07363+R07364+R07662+R07983+R08060+R08451+R08864+R09094+R09126+R09145+R09152+R09185+R09374+R09481+R09494+R09556+R10301+R10348+R10356+R10376+R10511+R10515+R10797+R11037+R11313+R11592+R11633+R11634+R11635+R11636+R11818+R11919+R11944+R12118+R12121+R12317+R12322+R12323+R12451+R12754+R13331+R13381\n",
      "R00134\n",
      "R00152\n",
      "R00212\n",
      "R00424\n",
      "R00425\n",
      "R00518\n",
      "R00519\n",
      "R00521\n",
      "R00522\n",
      "R00524\n",
      "https://rest.kegg.jp/get/C00058+C00006+C00011+C00005+C00080\n",
      "https://rest.kegg.jp/get/C01326+C00001+C00014+C00058\n",
      "https://rest.kegg.jp/get/C00024+C00058+C00010+C00022\n",
      "https://rest.kegg.jp/get/C00044+C00001+C04895+C00058\n",
      "https://rest.kegg.jp/get/C00044+C00001+C00058+C01304+C00009\n",
      "https://rest.kegg.jp/get/C00002+C00058+C00008+C02405\n",
      "https://rest.kegg.jp/get/C00058+C00003+C00080+C00011+C00004\n",
      "https://rest.kegg.jp/get/C00798+C00001+C00010+C00058\n",
      "https://rest.kegg.jp/get/C00209+C00058+C00011\n",
      "https://rest.kegg.jp/get/C00488+C00001+C00058+C00014\n",
      "Level 1 completed.\n",
      "['R00134', 'R00152', 'R00212', 'R00424', 'R00425', 'R00518', 'R00519', 'R00521', 'R00522', 'R00524', 'R00525', 'R00526', 'R00527', 'R00604', 'R00614', 'R00653', 'R00753', 'R00943', 'R00944', 'R00988', 'R01305', 'R01959', 'R02238', 'R02351', 'R02509', 'R02604', 'R03087', 'R03146', 'R03204', 'R03215', 'R03472', 'R03728', 'R03907', 'R04268', 'R04283', 'R04488', 'R04911', 'R05046', 'R05296', 'R05635', 'R05640', 'R05731', 'R05865', 'R06940', 'R06974', 'R06975', 'R06987', 'R07281', 'R07290', 'R07303', 'R07363', 'R07364', 'R07662', 'R07983', 'R08060', 'R08451', 'R08864', 'R09094', 'R09126', 'R09145', 'R09152', 'R09185', 'R09374', 'R09481', 'R09494', 'R09556', 'R10301', 'R10348', 'R10356', 'R10376', 'R10511', 'R10515', 'R10797', 'R11037', 'R11313', 'R11592', 'R11633', 'R11634', 'R11635', 'R11636', 'R11818', 'R11919', 'R11944', 'R12118', 'R12121', 'R12317', 'R12322', 'R12323', 'R12451', 'R12754', 'R13331', 'R13381']\n",
      "https://rest.kegg.jp/get/R00134+R00152+R00212+R00424+R00425+R00518+R00519+R00521+R00522+R00524+R00525+R00526+R00527+R00604+R00614+R00653+R00753+R00943+R00944+R00988+R01305+R01959+R02238+R02351+R02509+R02604+R03087+R03146+R03204+R03215+R03472+R03728+R03907+R04268+R04283+R04488+R04911+R05046+R05296+R05635+R05640+R05731+R05865+R06940+R06974+R06975+R06987+R07281+R07290+R07303+R07363+R07364+R07662+R07983+R08060+R08451+R08864+R09094+R09126+R09145+R09152+R09185+R09374+R09481+R09494+R09556+R10301+R10348+R10356+R10376+R10511+R10515+R10797+R11037+R11313+R11592+R11633+R11634+R11635+R11636+R11818+R11919+R11944+R12118+R12121+R12317+R12322+R12323+R12451+R12754+R13331+R13381\n",
      "R00134\n",
      "R00152\n",
      "R00212\n",
      "R00424\n",
      "R00425\n",
      "R00518\n",
      "R00519\n",
      "R00521\n",
      "R00522\n",
      "R00524\n",
      "https://rest.kegg.jp/get/C00058+C00006+C00011+C00005+C00080\n"
     ]
    },
    {
     "name": "stderr",
     "output_type": "stream",
     "text": [
      "Ignoring reaction 'R00134' since it already exists.\n"
     ]
    },
    {
     "name": "stdout",
     "output_type": "stream",
     "text": [
      "https://rest.kegg.jp/get/C01326+C00001+C00014+C00058\n"
     ]
    },
    {
     "name": "stderr",
     "output_type": "stream",
     "text": [
      "Ignoring reaction 'R00152' since it already exists.\n"
     ]
    },
    {
     "name": "stdout",
     "output_type": "stream",
     "text": [
      "https://rest.kegg.jp/get/C00024+C00058+C00010+C00022\n"
     ]
    },
    {
     "name": "stderr",
     "output_type": "stream",
     "text": [
      "Ignoring reaction 'R00212' since it already exists.\n"
     ]
    },
    {
     "name": "stdout",
     "output_type": "stream",
     "text": [
      "https://rest.kegg.jp/get/C00044+C00001+C04895+C00058\n"
     ]
    },
    {
     "name": "stderr",
     "output_type": "stream",
     "text": [
      "Ignoring reaction 'R00424' since it already exists.\n"
     ]
    },
    {
     "name": "stdout",
     "output_type": "stream",
     "text": [
      "https://rest.kegg.jp/get/C00044+C00001+C00058+C01304+C00009\n"
     ]
    },
    {
     "name": "stderr",
     "output_type": "stream",
     "text": [
      "Ignoring reaction 'R00425' since it already exists.\n"
     ]
    },
    {
     "name": "stdout",
     "output_type": "stream",
     "text": [
      "https://rest.kegg.jp/get/C00002+C00058+C00008+C02405\n"
     ]
    },
    {
     "name": "stderr",
     "output_type": "stream",
     "text": [
      "Ignoring reaction 'R00518' since it already exists.\n"
     ]
    },
    {
     "name": "stdout",
     "output_type": "stream",
     "text": [
      "https://rest.kegg.jp/get/C00058+C00003+C00080+C00011+C00004\n"
     ]
    },
    {
     "name": "stderr",
     "output_type": "stream",
     "text": [
      "Ignoring reaction 'R00519' since it already exists.\n"
     ]
    },
    {
     "name": "stdout",
     "output_type": "stream",
     "text": [
      "https://rest.kegg.jp/get/C00798+C00001+C00010+C00058\n"
     ]
    },
    {
     "name": "stderr",
     "output_type": "stream",
     "text": [
      "Ignoring reaction 'R00521' since it already exists.\n"
     ]
    },
    {
     "name": "stdout",
     "output_type": "stream",
     "text": [
      "https://rest.kegg.jp/get/C00209+C00058+C00011\n"
     ]
    },
    {
     "name": "stderr",
     "output_type": "stream",
     "text": [
      "Ignoring reaction 'R00522' since it already exists.\n"
     ]
    },
    {
     "name": "stdout",
     "output_type": "stream",
     "text": [
      "https://rest.kegg.jp/get/C00488+C00001+C00058+C00014\n"
     ]
    },
    {
     "name": "stderr",
     "output_type": "stream",
     "text": [
      "Ignoring reaction 'R00524' since it already exists.\n"
     ]
    },
    {
     "name": "stdout",
     "output_type": "stream",
     "text": [
      "['R00152', 'R01408', 'R01410', 'R01553', 'R01650', 'R01767', 'R02676', 'R03524', 'R05704', 'R07779', 'R08511', 'R09358', 'R11813', 'R11814']\n",
      "https://rest.kegg.jp/get/R00152+R01408+R01410+R01553+R01650+R01767+R02676+R03524+R05704+R07779+R08511+R09358+R11813+R11814\n",
      "R00152\n",
      "R01408\n",
      "R01410\n",
      "R01553\n",
      "R01650\n",
      "R01767\n",
      "R02676\n",
      "R03524\n",
      "R05704\n",
      "R07779\n",
      "https://rest.kegg.jp/get/C01326+C00001+C00014+C00058\n"
     ]
    },
    {
     "name": "stderr",
     "output_type": "stream",
     "text": [
      "Ignoring reaction 'R00152' since it already exists.\n"
     ]
    },
    {
     "name": "stdout",
     "output_type": "stream",
     "text": [
      "https://rest.kegg.jp/get/C00488+C01326+C00001\n",
      "https://rest.kegg.jp/get/C01326+C00084+C00014+C05714+C00001\n",
      "https://rest.kegg.jp/get/C02659+C01326+C00207\n",
      "https://rest.kegg.jp/get/C00232+C01326+C00014+C05715+C00001\n",
      "https://rest.kegg.jp/get/C00561+C01326+C00261\n",
      "https://rest.kegg.jp/get/C03742+C01326+C00633\n",
      "https://rest.kegg.jp/get/C00097+C01326+C00283+C02512\n",
      "https://rest.kegg.jp/get/C00037+C00028+C01326+C00011+C00030\n",
      "https://rest.kegg.jp/get/C04178+C00005+C00080+C00007+C16248+C00006+C01326+C00001\n",
      "['R00012', 'R00330', 'R00335', 'R00394', 'R00424', 'R00425', 'R00426', 'R00428', 'R00429', 'R00430', 'R00431', 'R00432', 'R00434', 'R00441', 'R00517', 'R00885', 'R00954', 'R00968', 'R01135', 'R01232', 'R01517', 'R01951', 'R02020', 'R02405', 'R03318', 'R03378', 'R03828', 'R05222', 'R06558', 'R07306', 'R08057', 'R09394', 'R09397', 'R09399', 'R09400', 'R09772', 'R10348', 'R10462', 'R10537', 'R10823', 'R11229', 'R11402', 'R11581', 'R11633', 'R12608', 'R12646', 'R12647', 'R12747', 'R12825']\n",
      "https://rest.kegg.jp/get/R00012+R00330+R00335+R00394+R00424+R00425+R00426+R00428+R00429+R00430+R00431+R00432+R00434+R00441+R00517+R00885+R00954+R00968+R01135+R01232+R01517+R01951+R02020+R02405+R03318+R03378+R03828+R05222+R06558+R07306+R08057+R09394+R09397+R09399+R09400+R09772+R10348+R10462+R10537+R10823+R11229+R11402+R11581+R11633+R12608+R12646+R12647+R12747+R12825\n",
      "R00012\n",
      "R00330\n",
      "R00335\n",
      "R00394\n",
      "R00424\n",
      "R00425\n",
      "R00426\n",
      "R00428\n",
      "R00429\n",
      "R00430\n",
      "https://rest.kegg.jp/get/C00044+C00013+C01261\n",
      "https://rest.kegg.jp/get/C00002+C00035+C00008+C00044\n",
      "https://rest.kegg.jp/get/C00044+C00001+C00035+C00009\n",
      "https://rest.kegg.jp/get/C00044+C00060+C00010+C00035+C00009+C00040\n",
      "https://rest.kegg.jp/get/C00044+C00001+C04895+C00058\n"
     ]
    },
    {
     "name": "stderr",
     "output_type": "stream",
     "text": [
      "Ignoring reaction 'R00424' since it already exists.\n"
     ]
    },
    {
     "name": "stdout",
     "output_type": "stream",
     "text": [
      "https://rest.kegg.jp/get/C00044+C00001+C00058+C01304+C00009\n"
     ]
    },
    {
     "name": "stderr",
     "output_type": "stream",
     "text": [
      "Ignoring reaction 'R00425' since it already exists.\n"
     ]
    },
    {
     "name": "stdout",
     "output_type": "stream",
     "text": [
      "https://rest.kegg.jp/get/C00044+C00001+C00144+C00013\n",
      "https://rest.kegg.jp/get/C00044+C00001+C05922\n",
      "https://rest.kegg.jp/get/C00002+C00044+C00020+C04494\n",
      "https://rest.kegg.jp/get/C00044+C00022+C00035+C00074\n",
      "['R00424', 'R04286', 'R04620', 'R04638', 'R04639', 'R09959', 'R11082', 'R11719']\n",
      "https://rest.kegg.jp/get/R00424+R04286+R04620+R04638+R04639+R09959+R11082+R11719\n",
      "R00424\n",
      "R04286\n",
      "R04620\n",
      "R04638\n",
      "R04639\n",
      "R09959\n",
      "R11082\n",
      "R11719\n",
      "https://rest.kegg.jp/get/C00044+C00001+C04895+C00058\n"
     ]
    },
    {
     "name": "stderr",
     "output_type": "stream",
     "text": [
      "Ignoring reaction 'R00424' since it already exists.\n"
     ]
    },
    {
     "name": "stdout",
     "output_type": "stream",
     "text": [
      "https://rest.kegg.jp/get/C04895+C03684+C00536\n",
      "https://rest.kegg.jp/get/C04895+C00001+C04874+C00009\n",
      "https://rest.kegg.jp/get/C04895+C00001+C05925+C00013\n",
      "https://rest.kegg.jp/get/C04895+C00001+C06148\n",
      "https://rest.kegg.jp/get/C04895+C00001+C20239+C00084+C00536\n",
      "https://rest.kegg.jp/get/C04895+C21094\n",
      "https://rest.kegg.jp/get/C04895+C01300+C21615\n",
      "['R00425', 'R03459', 'R09374', 'R09375', 'R09376', 'R11072']\n",
      "https://rest.kegg.jp/get/R00425+R03459+R09374+R09375+R09376+R11072\n",
      "R00425\n",
      "R03459\n",
      "R09374\n",
      "R09375\n",
      "R09376\n",
      "R11072\n",
      "https://rest.kegg.jp/get/C00044+C00001+C00058+C01304+C00009\n"
     ]
    },
    {
     "name": "stderr",
     "output_type": "stream",
     "text": [
      "Ignoring reaction 'R00425' since it already exists.\n"
     ]
    },
    {
     "name": "stdout",
     "output_type": "stream",
     "text": [
      "https://rest.kegg.jp/get/C01304+C00001+C01268+C00014\n",
      "https://rest.kegg.jp/get/C15563+C00001+C01304+C00058\n",
      "https://rest.kegg.jp/get/C01304+C00004+C00080+C18910+C00003\n",
      "https://rest.kegg.jp/get/C01304+C00005+C00080+C18910+C00006\n",
      "https://rest.kegg.jp/get/C01304+C05925+C00001\n",
      "['R00518']\n",
      "https://rest.kegg.jp/get/R00518\n",
      "R00518\n",
      "https://rest.kegg.jp/get/C00002+C00058+C00008+C02405\n"
     ]
    },
    {
     "name": "stderr",
     "output_type": "stream",
     "text": [
      "Ignoring reaction 'R00518' since it already exists.\n"
     ]
    },
    {
     "name": "stdout",
     "output_type": "stream",
     "text": [
      "['R00521', 'R01908', 'R07290', 'R12799', 'R12800']\n",
      "https://rest.kegg.jp/get/R00521+R01908+R07290+R12799+R12800\n",
      "R00521\n",
      "R01908\n",
      "R07290\n",
      "R12799\n",
      "R12800\n",
      "https://rest.kegg.jp/get/C00798+C00001+C00010+C00058\n"
     ]
    },
    {
     "name": "stderr",
     "output_type": "stream",
     "text": [
      "Ignoring reaction 'R00521' since it already exists.\n"
     ]
    },
    {
     "name": "stdout",
     "output_type": "stream",
     "text": [
      "https://rest.kegg.jp/get/C00313+C00798+C00011\n",
      "https://rest.kegg.jp/get/C00798+C00209+C00058+C00313\n",
      "https://rest.kegg.jp/get/C22401+C22402+C00798\n",
      "https://rest.kegg.jp/get/C22405+C22406+C00798\n",
      "['R00273', 'R00338', 'R00466', 'R00522', 'R00646', 'R01558', 'R01559', 'R07290', 'R09157', 'R09486', 'R10614', 'R11617']\n",
      "https://rest.kegg.jp/get/R00273+R00338+R00466+R00522+R00646+R01558+R01559+R07290+R09157+R09486+R10614+R11617\n",
      "R00273\n",
      "R00338\n",
      "R00466\n",
      "R00522\n",
      "R00646\n",
      "R01558\n",
      "R01559\n",
      "R07290\n",
      "R09157\n",
      "R09486\n",
      "https://rest.kegg.jp/get/C00209+C00007+C00027+C00011\n",
      "https://rest.kegg.jp/get/C00036+C00001+C00209+C00033\n",
      "https://rest.kegg.jp/get/C00048+C00007+C00001+C00209+C00027\n",
      "https://rest.kegg.jp/get/C00209+C00058+C00011\n"
     ]
    },
    {
     "name": "stderr",
     "output_type": "stream",
     "text": [
      "Ignoring reaction 'R00522' since it already exists.\n"
     ]
    },
    {
     "name": "stdout",
     "output_type": "stream",
     "text": [
      "https://rest.kegg.jp/get/C00072+C00007+C00001+C01620+C00209\n",
      "https://rest.kegg.jp/get/C00002+C00209+C00010+C00020+C00013+C00313\n",
      "https://rest.kegg.jp/get/C00091+C00209+C00042+C00313\n",
      "https://rest.kegg.jp/get/C00798+C00209+C00058+C00313\n"
     ]
    },
    {
     "name": "stderr",
     "output_type": "stream",
     "text": [
      "Ignoring reaction 'R07290' since it already exists.\n"
     ]
    },
    {
     "name": "stdout",
     "output_type": "stream",
     "text": [
      "https://rest.kegg.jp/get/C11150+C00001+C00209+C01327\n",
      "https://rest.kegg.jp/get/C00209+C00139+C00011+C00138+C00080\n",
      "['R00524', 'R01408', 'R02285']\n",
      "https://rest.kegg.jp/get/R00524+R01408+R02285\n",
      "R00524\n",
      "R01408\n",
      "R02285\n",
      "https://rest.kegg.jp/get/C00488+C00001+C00058+C00014\n"
     ]
    },
    {
     "name": "stderr",
     "output_type": "stream",
     "text": [
      "Ignoring reaction 'R00524' since it already exists.\n"
     ]
    },
    {
     "name": "stdout",
     "output_type": "stream",
     "text": [
      "https://rest.kegg.jp/get/C00488+C01326+C00001\n"
     ]
    },
    {
     "name": "stderr",
     "output_type": "stream",
     "text": [
      "Ignoring reaction 'R01408' since it already exists.\n"
     ]
    },
    {
     "name": "stdout",
     "output_type": "stream",
     "text": [
      "https://rest.kegg.jp/get/C00439+C00001+C00025+C00488\n",
      "Level 2 completed.\n",
      "Warning: When  cdn_resources is 'local' jupyter notebook has issues displaying graphics on chrome/safari. Use cdn_resources='in_line' or cdn_resources='remote' if you have issues viewing graphics in a notebook.\n",
      "C00058\n",
      "C00011\n",
      "C00058\n",
      "C00005\n",
      "C00058\n",
      "C00080\n",
      "C00058\n",
      "C01326\n",
      "C00058\n",
      "C00001\n",
      "C00058\n",
      "C00010\n",
      "C00058\n",
      "C00022\n",
      "C00058\n",
      "C00044\n",
      "C00058\n",
      "C00008\n",
      "C00058\n",
      "C02405\n",
      "C00058\n",
      "C00004\n",
      "C00058\n",
      "C00798\n",
      "C00058\n",
      "C00209\n",
      "C00058\n",
      "C00488\n",
      "C00058\n",
      "C15563\n",
      "C00006\n",
      "C00011\n",
      "C00006\n",
      "C00005\n",
      "C00006\n",
      "C00080\n",
      "C00006\n",
      "C04178\n",
      "C00006\n",
      "C00007\n",
      "C00006\n",
      "C01304\n",
      "C00011\n",
      "C00003\n",
      "C00011\n",
      "C00209\n",
      "C00011\n",
      "C00037\n",
      "C00011\n",
      "C00028\n",
      "C00011\n",
      "C00313\n",
      "C00011\n",
      "C00007\n",
      "C00011\n",
      "C00139\n",
      "C00005\n",
      "C16248\n",
      "C00005\n",
      "C01326\n",
      "C00005\n",
      "C00001\n",
      "C00005\n",
      "C18910\n",
      "C00080\n",
      "C00003\n",
      "C00080\n",
      "C16248\n",
      "C00080\n",
      "C01326\n",
      "C00080\n",
      "C00001\n",
      "C00080\n",
      "C18910\n",
      "C00080\n",
      "C00209\n",
      "C00080\n",
      "C00139\n",
      "C01326\n",
      "C00014\n",
      "C01326\n",
      "C00488\n",
      "C01326\n",
      "C05714\n",
      "C01326\n",
      "C00001\n",
      "C01326\n",
      "C02659\n",
      "C01326\n",
      "C05715\n",
      "C01326\n",
      "C00561\n",
      "C01326\n",
      "C03742\n",
      "C01326\n",
      "C00283\n",
      "C01326\n",
      "C02512\n",
      "C01326\n",
      "C00037\n",
      "C01326\n",
      "C00028\n",
      "C01326\n",
      "C04178\n",
      "C01326\n",
      "C00007\n",
      "C00001\n",
      "C00014\n",
      "C00001\n",
      "C04895\n",
      "C00001\n",
      "C01304\n",
      "C00001\n",
      "C00009\n",
      "C00001\n",
      "C00010\n",
      "C00001\n",
      "C00488\n",
      "C00001\n",
      "C00084\n",
      "C00001\n",
      "C00232\n",
      "C00001\n",
      "C04178\n",
      "C00001\n",
      "C00007\n",
      "C00001\n",
      "C00035\n",
      "C00001\n",
      "C00144\n",
      "C00001\n",
      "C00013\n",
      "C00001\n",
      "C05922\n",
      "C00001\n",
      "C04874\n",
      "C00001\n",
      "C05925\n",
      "C00001\n",
      "C06148\n",
      "C00001\n",
      "C20239\n",
      "C00001\n",
      "C00536\n",
      "C00001\n",
      "C01268\n",
      "C00001\n",
      "C00209\n",
      "C00001\n",
      "C00033\n",
      "C00001\n",
      "C00027\n",
      "C00001\n",
      "C01620\n",
      "C00001\n",
      "C01327\n",
      "C00001\n",
      "C00025\n",
      "C00014\n",
      "C00488\n",
      "C00014\n",
      "C05714\n",
      "C00014\n",
      "C05715\n",
      "C00014\n",
      "C01304\n",
      "C00024\n",
      "C00010\n",
      "C00024\n",
      "C00022\n",
      "C00010\n",
      "C00798\n",
      "C00010\n",
      "C00035\n",
      "C00010\n",
      "C00009\n",
      "C00010\n",
      "C00040\n",
      "C00010\n",
      "C00020\n",
      "C00010\n",
      "C00013\n",
      "C00010\n",
      "C00313\n",
      "C00022\n",
      "C00035\n",
      "C00022\n",
      "C00074\n",
      "C00044\n",
      "C04895\n",
      "C00044\n",
      "C01304\n",
      "C00044\n",
      "C00009\n",
      "C00044\n",
      "C00013\n",
      "C00044\n",
      "C01261\n",
      "C00044\n",
      "C00002\n",
      "C00044\n",
      "C00035\n",
      "C00044\n",
      "C00040\n",
      "C00044\n",
      "C00144\n",
      "C00044\n",
      "C05922\n",
      "C00044\n",
      "C00020\n",
      "C00044\n",
      "C04494\n",
      "C00044\n",
      "C00074\n",
      "C04895\n",
      "C03684\n",
      "C04895\n",
      "C00536\n",
      "C04895\n",
      "C04874\n",
      "C04895\n",
      "C00009\n",
      "C04895\n",
      "C05925\n",
      "C04895\n",
      "C00013\n",
      "C04895\n",
      "C06148\n",
      "C04895\n",
      "C20239\n",
      "C04895\n",
      "C00084\n",
      "C04895\n",
      "C21094\n",
      "C04895\n",
      "C01300\n",
      "C04895\n",
      "C21615\n",
      "C01304\n",
      "C01268\n",
      "C01304\n",
      "C15563\n",
      "C01304\n",
      "C18910\n",
      "C01304\n",
      "C00003\n",
      "C01304\n",
      "C05925\n",
      "C00009\n",
      "C00060\n",
      "C00002\n",
      "C00008\n",
      "C00002\n",
      "C02405\n",
      "C00002\n",
      "C00020\n",
      "C00002\n",
      "C04494\n",
      "C00002\n",
      "C00013\n",
      "C00002\n",
      "C00313\n",
      "C00008\n",
      "C00035\n",
      "C00003\n",
      "C00004\n",
      "C00004\n",
      "C18910\n",
      "C00798\n",
      "C00313\n",
      "C00798\n",
      "C22401\n",
      "C00798\n",
      "C22405\n",
      "C00209\n",
      "C00313\n",
      "C00209\n",
      "C00027\n",
      "C00209\n",
      "C00036\n",
      "C00209\n",
      "C00048\n",
      "C00209\n",
      "C00007\n",
      "C00209\n",
      "C00072\n",
      "C00209\n",
      "C00020\n",
      "C00209\n",
      "C00013\n",
      "C00209\n",
      "C00042\n",
      "C00209\n",
      "C11150\n",
      "C00209\n",
      "C00138\n",
      "C00488\n",
      "C00439\n",
      "C00084\n",
      "C05714\n",
      "C02659\n",
      "C00207\n",
      "C00232\n",
      "C05715\n",
      "C00561\n",
      "C00261\n",
      "C03742\n",
      "C00633\n",
      "C00097\n",
      "C00283\n",
      "C00097\n",
      "C02512\n",
      "C00037\n",
      "C00030\n",
      "C00028\n",
      "C00030\n",
      "C04178\n",
      "C16248\n",
      "C00007\n",
      "C16248\n",
      "C00007\n",
      "C00027\n",
      "C00007\n",
      "C01620\n",
      "C00035\n",
      "C00060\n",
      "C00060\n",
      "C00040\n",
      "C00313\n",
      "C00091\n",
      "C22401\n",
      "C22402\n",
      "C22405\n",
      "C22406\n",
      "C00027\n",
      "C00048\n",
      "C00036\n",
      "C00033\n",
      "C00072\n",
      "C01620\n",
      "C00091\n",
      "C00042\n",
      "C11150\n",
      "C01327\n",
      "C00139\n",
      "C00138\n",
      "C00439\n",
      "C00025\n",
      "[{'color': '#97c2fc', 'size': 10, 'id': 'C00058', 'label': 'C00058', 'shape': 'dot'}, {'color': '#97c2fc', 'size': 10, 'id': 'C00011', 'label': 'C00011', 'shape': 'dot'}, {'color': '#97c2fc', 'size': 10, 'id': 'C00005', 'label': 'C00005', 'shape': 'dot'}, {'color': '#97c2fc', 'size': 10, 'id': 'C00080', 'label': 'C00080', 'shape': 'dot'}, {'color': '#97c2fc', 'size': 10, 'id': 'C01326', 'label': 'C01326', 'shape': 'dot'}, {'color': '#97c2fc', 'size': 10, 'id': 'C00001', 'label': 'C00001', 'shape': 'dot'}, {'color': '#97c2fc', 'size': 10, 'id': 'C00010', 'label': 'C00010', 'shape': 'dot'}, {'color': '#97c2fc', 'size': 10, 'id': 'C00022', 'label': 'C00022', 'shape': 'dot'}, {'color': '#97c2fc', 'size': 10, 'id': 'C00044', 'label': 'C00044', 'shape': 'dot'}, {'color': '#97c2fc', 'size': 10, 'id': 'C00008', 'label': 'C00008', 'shape': 'dot'}, {'color': '#97c2fc', 'size': 10, 'id': 'C02405', 'label': 'C02405', 'shape': 'dot'}, {'color': '#97c2fc', 'size': 10, 'id': 'C00004', 'label': 'C00004', 'shape': 'dot'}, {'color': '#97c2fc', 'size': 10, 'id': 'C00798', 'label': 'C00798', 'shape': 'dot'}, {'color': '#97c2fc', 'size': 10, 'id': 'C00209', 'label': 'C00209', 'shape': 'dot'}, {'color': '#97c2fc', 'size': 10, 'id': 'C00488', 'label': 'C00488', 'shape': 'dot'}, {'color': '#97c2fc', 'size': 10, 'id': 'C15563', 'label': 'C15563', 'shape': 'dot'}, {'color': '#97c2fc', 'size': 10, 'id': 'C00006', 'label': 'C00006', 'shape': 'dot'}, {'color': '#97c2fc', 'size': 10, 'id': 'C04178', 'label': 'C04178', 'shape': 'dot'}, {'color': '#97c2fc', 'size': 10, 'id': 'C00007', 'label': 'C00007', 'shape': 'dot'}, {'color': '#97c2fc', 'size': 10, 'id': 'C01304', 'label': 'C01304', 'shape': 'dot'}, {'color': '#97c2fc', 'size': 10, 'id': 'C00003', 'label': 'C00003', 'shape': 'dot'}, {'color': '#97c2fc', 'size': 10, 'id': 'C00037', 'label': 'C00037', 'shape': 'dot'}, {'color': '#97c2fc', 'size': 10, 'id': 'C00028', 'label': 'C00028', 'shape': 'dot'}, {'color': '#97c2fc', 'size': 10, 'id': 'C00313', 'label': 'C00313', 'shape': 'dot'}, {'color': '#97c2fc', 'size': 10, 'id': 'C00139', 'label': 'C00139', 'shape': 'dot'}, {'color': '#97c2fc', 'size': 10, 'id': 'C16248', 'label': 'C16248', 'shape': 'dot'}, {'color': '#97c2fc', 'size': 10, 'id': 'C18910', 'label': 'C18910', 'shape': 'dot'}, {'color': '#97c2fc', 'size': 10, 'id': 'C00014', 'label': 'C00014', 'shape': 'dot'}, {'color': '#97c2fc', 'size': 10, 'id': 'C05714', 'label': 'C05714', 'shape': 'dot'}, {'color': '#97c2fc', 'size': 10, 'id': 'C02659', 'label': 'C02659', 'shape': 'dot'}, {'color': '#97c2fc', 'size': 10, 'id': 'C05715', 'label': 'C05715', 'shape': 'dot'}, {'color': '#97c2fc', 'size': 10, 'id': 'C00561', 'label': 'C00561', 'shape': 'dot'}, {'color': '#97c2fc', 'size': 10, 'id': 'C03742', 'label': 'C03742', 'shape': 'dot'}, {'color': '#97c2fc', 'size': 10, 'id': 'C00283', 'label': 'C00283', 'shape': 'dot'}, {'color': '#97c2fc', 'size': 10, 'id': 'C02512', 'label': 'C02512', 'shape': 'dot'}, {'color': '#97c2fc', 'size': 10, 'id': 'C04895', 'label': 'C04895', 'shape': 'dot'}, {'color': '#97c2fc', 'size': 10, 'id': 'C00009', 'label': 'C00009', 'shape': 'dot'}, {'color': '#97c2fc', 'size': 10, 'id': 'C00084', 'label': 'C00084', 'shape': 'dot'}, {'color': '#97c2fc', 'size': 10, 'id': 'C00232', 'label': 'C00232', 'shape': 'dot'}, {'color': '#97c2fc', 'size': 10, 'id': 'C00035', 'label': 'C00035', 'shape': 'dot'}, {'color': '#97c2fc', 'size': 10, 'id': 'C00144', 'label': 'C00144', 'shape': 'dot'}, {'color': '#97c2fc', 'size': 10, 'id': 'C00013', 'label': 'C00013', 'shape': 'dot'}, {'color': '#97c2fc', 'size': 10, 'id': 'C05922', 'label': 'C05922', 'shape': 'dot'}, {'color': '#97c2fc', 'size': 10, 'id': 'C04874', 'label': 'C04874', 'shape': 'dot'}, {'color': '#97c2fc', 'size': 10, 'id': 'C05925', 'label': 'C05925', 'shape': 'dot'}, {'color': '#97c2fc', 'size': 10, 'id': 'C06148', 'label': 'C06148', 'shape': 'dot'}, {'color': '#97c2fc', 'size': 10, 'id': 'C20239', 'label': 'C20239', 'shape': 'dot'}, {'color': '#97c2fc', 'size': 10, 'id': 'C00536', 'label': 'C00536', 'shape': 'dot'}, {'color': '#97c2fc', 'size': 10, 'id': 'C01268', 'label': 'C01268', 'shape': 'dot'}, {'color': '#97c2fc', 'size': 10, 'id': 'C00033', 'label': 'C00033', 'shape': 'dot'}, {'color': '#97c2fc', 'size': 10, 'id': 'C00027', 'label': 'C00027', 'shape': 'dot'}, {'color': '#97c2fc', 'size': 10, 'id': 'C01620', 'label': 'C01620', 'shape': 'dot'}, {'color': '#97c2fc', 'size': 10, 'id': 'C01327', 'label': 'C01327', 'shape': 'dot'}, {'color': '#97c2fc', 'size': 10, 'id': 'C00025', 'label': 'C00025', 'shape': 'dot'}, {'color': '#97c2fc', 'size': 10, 'id': 'C00024', 'label': 'C00024', 'shape': 'dot'}, {'color': '#97c2fc', 'size': 10, 'id': 'C00040', 'label': 'C00040', 'shape': 'dot'}, {'color': '#97c2fc', 'size': 10, 'id': 'C00020', 'label': 'C00020', 'shape': 'dot'}, {'color': '#97c2fc', 'size': 10, 'id': 'C00074', 'label': 'C00074', 'shape': 'dot'}, {'color': '#97c2fc', 'size': 10, 'id': 'C01261', 'label': 'C01261', 'shape': 'dot'}, {'color': '#97c2fc', 'size': 10, 'id': 'C00002', 'label': 'C00002', 'shape': 'dot'}, {'color': '#97c2fc', 'size': 10, 'id': 'C04494', 'label': 'C04494', 'shape': 'dot'}, {'color': '#97c2fc', 'size': 10, 'id': 'C03684', 'label': 'C03684', 'shape': 'dot'}, {'color': '#97c2fc', 'size': 10, 'id': 'C21094', 'label': 'C21094', 'shape': 'dot'}, {'color': '#97c2fc', 'size': 10, 'id': 'C01300', 'label': 'C01300', 'shape': 'dot'}, {'color': '#97c2fc', 'size': 10, 'id': 'C21615', 'label': 'C21615', 'shape': 'dot'}, {'color': '#97c2fc', 'size': 10, 'id': 'C00060', 'label': 'C00060', 'shape': 'dot'}, {'color': '#97c2fc', 'size': 10, 'id': 'C22401', 'label': 'C22401', 'shape': 'dot'}, {'color': '#97c2fc', 'size': 10, 'id': 'C22405', 'label': 'C22405', 'shape': 'dot'}, {'color': '#97c2fc', 'size': 10, 'id': 'C00036', 'label': 'C00036', 'shape': 'dot'}, {'color': '#97c2fc', 'size': 10, 'id': 'C00048', 'label': 'C00048', 'shape': 'dot'}, {'color': '#97c2fc', 'size': 10, 'id': 'C00072', 'label': 'C00072', 'shape': 'dot'}, {'color': '#97c2fc', 'size': 10, 'id': 'C00042', 'label': 'C00042', 'shape': 'dot'}, {'color': '#97c2fc', 'size': 10, 'id': 'C11150', 'label': 'C11150', 'shape': 'dot'}, {'color': '#97c2fc', 'size': 10, 'id': 'C00138', 'label': 'C00138', 'shape': 'dot'}, {'color': '#97c2fc', 'size': 10, 'id': 'C00439', 'label': 'C00439', 'shape': 'dot'}, {'color': '#97c2fc', 'size': 10, 'id': 'C00207', 'label': 'C00207', 'shape': 'dot'}, {'color': '#97c2fc', 'size': 10, 'id': 'C00261', 'label': 'C00261', 'shape': 'dot'}, {'color': '#97c2fc', 'size': 10, 'id': 'C00633', 'label': 'C00633', 'shape': 'dot'}, {'color': '#97c2fc', 'size': 10, 'id': 'C00097', 'label': 'C00097', 'shape': 'dot'}, {'color': '#97c2fc', 'size': 10, 'id': 'C00030', 'label': 'C00030', 'shape': 'dot'}, {'color': '#97c2fc', 'size': 10, 'id': 'C00091', 'label': 'C00091', 'shape': 'dot'}, {'color': '#97c2fc', 'size': 10, 'id': 'C22402', 'label': 'C22402', 'shape': 'dot'}, {'color': '#97c2fc', 'size': 10, 'id': 'C22406', 'label': 'C22406', 'shape': 'dot'}]\n",
      "{'color': '#97c2fc', 'size': 10, 'id': 'C00058', 'label': 'C00058', 'shape': 'dot'}\n",
      "{'color': '#97c2fc', 'size': 10, 'id': 'C00011', 'label': 'C00011', 'shape': 'dot'}\n",
      "{'color': '#97c2fc', 'size': 10, 'id': 'C00005', 'label': 'C00005', 'shape': 'dot'}\n",
      "{'color': '#97c2fc', 'size': 10, 'id': 'C00080', 'label': 'C00080', 'shape': 'dot'}\n",
      "{'color': '#97c2fc', 'size': 10, 'id': 'C01326', 'label': 'C01326', 'shape': 'dot'}\n",
      "{'color': '#97c2fc', 'size': 10, 'id': 'C00001', 'label': 'C00001', 'shape': 'dot'}\n",
      "{'color': '#97c2fc', 'size': 10, 'id': 'C00010', 'label': 'C00010', 'shape': 'dot'}\n",
      "{'color': '#97c2fc', 'size': 10, 'id': 'C00022', 'label': 'C00022', 'shape': 'dot'}\n",
      "{'color': '#97c2fc', 'size': 10, 'id': 'C00044', 'label': 'C00044', 'shape': 'dot'}\n",
      "{'color': '#97c2fc', 'size': 10, 'id': 'C00008', 'label': 'C00008', 'shape': 'dot'}\n",
      "{'color': '#97c2fc', 'size': 10, 'id': 'C02405', 'label': 'C02405', 'shape': 'dot'}\n",
      "{'color': '#97c2fc', 'size': 10, 'id': 'C00004', 'label': 'C00004', 'shape': 'dot'}\n",
      "{'color': '#97c2fc', 'size': 10, 'id': 'C00798', 'label': 'C00798', 'shape': 'dot'}\n",
      "{'color': '#97c2fc', 'size': 10, 'id': 'C00209', 'label': 'C00209', 'shape': 'dot'}\n",
      "{'color': '#97c2fc', 'size': 10, 'id': 'C00488', 'label': 'C00488', 'shape': 'dot'}\n",
      "{'color': '#97c2fc', 'size': 10, 'id': 'C15563', 'label': 'C15563', 'shape': 'dot'}\n",
      "{'color': '#97c2fc', 'size': 10, 'id': 'C00006', 'label': 'C00006', 'shape': 'dot'}\n",
      "{'color': '#97c2fc', 'size': 10, 'id': 'C04178', 'label': 'C04178', 'shape': 'dot'}\n",
      "{'color': '#97c2fc', 'size': 10, 'id': 'C00007', 'label': 'C00007', 'shape': 'dot'}\n",
      "{'color': '#97c2fc', 'size': 10, 'id': 'C01304', 'label': 'C01304', 'shape': 'dot'}\n",
      "{'color': '#97c2fc', 'size': 10, 'id': 'C00003', 'label': 'C00003', 'shape': 'dot'}\n",
      "{'color': '#97c2fc', 'size': 10, 'id': 'C00037', 'label': 'C00037', 'shape': 'dot'}\n",
      "{'color': '#97c2fc', 'size': 10, 'id': 'C00028', 'label': 'C00028', 'shape': 'dot'}\n",
      "{'color': '#97c2fc', 'size': 10, 'id': 'C00313', 'label': 'C00313', 'shape': 'dot'}\n",
      "{'color': '#97c2fc', 'size': 10, 'id': 'C00139', 'label': 'C00139', 'shape': 'dot'}\n",
      "{'color': '#97c2fc', 'size': 10, 'id': 'C16248', 'label': 'C16248', 'shape': 'dot'}\n",
      "{'color': '#97c2fc', 'size': 10, 'id': 'C18910', 'label': 'C18910', 'shape': 'dot'}\n",
      "{'color': '#97c2fc', 'size': 10, 'id': 'C00014', 'label': 'C00014', 'shape': 'dot'}\n",
      "{'color': '#97c2fc', 'size': 10, 'id': 'C05714', 'label': 'C05714', 'shape': 'dot'}\n",
      "{'color': '#97c2fc', 'size': 10, 'id': 'C02659', 'label': 'C02659', 'shape': 'dot'}\n",
      "{'color': '#97c2fc', 'size': 10, 'id': 'C05715', 'label': 'C05715', 'shape': 'dot'}\n",
      "{'color': '#97c2fc', 'size': 10, 'id': 'C00561', 'label': 'C00561', 'shape': 'dot'}\n",
      "{'color': '#97c2fc', 'size': 10, 'id': 'C03742', 'label': 'C03742', 'shape': 'dot'}\n",
      "{'color': '#97c2fc', 'size': 10, 'id': 'C00283', 'label': 'C00283', 'shape': 'dot'}\n",
      "{'color': '#97c2fc', 'size': 10, 'id': 'C02512', 'label': 'C02512', 'shape': 'dot'}\n",
      "{'color': '#97c2fc', 'size': 10, 'id': 'C04895', 'label': 'C04895', 'shape': 'dot'}\n",
      "{'color': '#97c2fc', 'size': 10, 'id': 'C00009', 'label': 'C00009', 'shape': 'dot'}\n",
      "{'color': '#97c2fc', 'size': 10, 'id': 'C00084', 'label': 'C00084', 'shape': 'dot'}\n",
      "{'color': '#97c2fc', 'size': 10, 'id': 'C00232', 'label': 'C00232', 'shape': 'dot'}\n",
      "{'color': '#97c2fc', 'size': 10, 'id': 'C00035', 'label': 'C00035', 'shape': 'dot'}\n",
      "{'color': '#97c2fc', 'size': 10, 'id': 'C00144', 'label': 'C00144', 'shape': 'dot'}\n",
      "{'color': '#97c2fc', 'size': 10, 'id': 'C00013', 'label': 'C00013', 'shape': 'dot'}\n",
      "{'color': '#97c2fc', 'size': 10, 'id': 'C05922', 'label': 'C05922', 'shape': 'dot'}\n",
      "{'color': '#97c2fc', 'size': 10, 'id': 'C04874', 'label': 'C04874', 'shape': 'dot'}\n",
      "{'color': '#97c2fc', 'size': 10, 'id': 'C05925', 'label': 'C05925', 'shape': 'dot'}\n",
      "{'color': '#97c2fc', 'size': 10, 'id': 'C06148', 'label': 'C06148', 'shape': 'dot'}\n",
      "{'color': '#97c2fc', 'size': 10, 'id': 'C20239', 'label': 'C20239', 'shape': 'dot'}\n",
      "{'color': '#97c2fc', 'size': 10, 'id': 'C00536', 'label': 'C00536', 'shape': 'dot'}\n",
      "{'color': '#97c2fc', 'size': 10, 'id': 'C01268', 'label': 'C01268', 'shape': 'dot'}\n",
      "{'color': '#97c2fc', 'size': 10, 'id': 'C00033', 'label': 'C00033', 'shape': 'dot'}\n",
      "{'color': '#97c2fc', 'size': 10, 'id': 'C00027', 'label': 'C00027', 'shape': 'dot'}\n",
      "{'color': '#97c2fc', 'size': 10, 'id': 'C01620', 'label': 'C01620', 'shape': 'dot'}\n",
      "{'color': '#97c2fc', 'size': 10, 'id': 'C01327', 'label': 'C01327', 'shape': 'dot'}\n",
      "{'color': '#97c2fc', 'size': 10, 'id': 'C00025', 'label': 'C00025', 'shape': 'dot'}\n",
      "{'color': '#97c2fc', 'size': 10, 'id': 'C00024', 'label': 'C00024', 'shape': 'dot'}\n",
      "{'color': '#97c2fc', 'size': 10, 'id': 'C00040', 'label': 'C00040', 'shape': 'dot'}\n",
      "{'color': '#97c2fc', 'size': 10, 'id': 'C00020', 'label': 'C00020', 'shape': 'dot'}\n",
      "{'color': '#97c2fc', 'size': 10, 'id': 'C00074', 'label': 'C00074', 'shape': 'dot'}\n",
      "{'color': '#97c2fc', 'size': 10, 'id': 'C01261', 'label': 'C01261', 'shape': 'dot'}\n",
      "{'color': '#97c2fc', 'size': 10, 'id': 'C00002', 'label': 'C00002', 'shape': 'dot'}\n",
      "{'color': '#97c2fc', 'size': 10, 'id': 'C04494', 'label': 'C04494', 'shape': 'dot'}\n",
      "{'color': '#97c2fc', 'size': 10, 'id': 'C03684', 'label': 'C03684', 'shape': 'dot'}\n",
      "{'color': '#97c2fc', 'size': 10, 'id': 'C21094', 'label': 'C21094', 'shape': 'dot'}\n",
      "{'color': '#97c2fc', 'size': 10, 'id': 'C01300', 'label': 'C01300', 'shape': 'dot'}\n",
      "{'color': '#97c2fc', 'size': 10, 'id': 'C21615', 'label': 'C21615', 'shape': 'dot'}\n",
      "{'color': '#97c2fc', 'size': 10, 'id': 'C00060', 'label': 'C00060', 'shape': 'dot'}\n",
      "{'color': '#97c2fc', 'size': 10, 'id': 'C22401', 'label': 'C22401', 'shape': 'dot'}\n",
      "{'color': '#97c2fc', 'size': 10, 'id': 'C22405', 'label': 'C22405', 'shape': 'dot'}\n",
      "{'color': '#97c2fc', 'size': 10, 'id': 'C00036', 'label': 'C00036', 'shape': 'dot'}\n",
      "{'color': '#97c2fc', 'size': 10, 'id': 'C00048', 'label': 'C00048', 'shape': 'dot'}\n",
      "{'color': '#97c2fc', 'size': 10, 'id': 'C00072', 'label': 'C00072', 'shape': 'dot'}\n",
      "{'color': '#97c2fc', 'size': 10, 'id': 'C00042', 'label': 'C00042', 'shape': 'dot'}\n",
      "{'color': '#97c2fc', 'size': 10, 'id': 'C11150', 'label': 'C11150', 'shape': 'dot'}\n",
      "{'color': '#97c2fc', 'size': 10, 'id': 'C00138', 'label': 'C00138', 'shape': 'dot'}\n",
      "{'color': '#97c2fc', 'size': 10, 'id': 'C00439', 'label': 'C00439', 'shape': 'dot'}\n",
      "{'color': '#97c2fc', 'size': 10, 'id': 'C00207', 'label': 'C00207', 'shape': 'dot'}\n",
      "{'color': '#97c2fc', 'size': 10, 'id': 'C00261', 'label': 'C00261', 'shape': 'dot'}\n",
      "{'color': '#97c2fc', 'size': 10, 'id': 'C00633', 'label': 'C00633', 'shape': 'dot'}\n",
      "{'color': '#97c2fc', 'size': 10, 'id': 'C00097', 'label': 'C00097', 'shape': 'dot'}\n",
      "{'color': '#97c2fc', 'size': 10, 'id': 'C00030', 'label': 'C00030', 'shape': 'dot'}\n",
      "{'color': '#97c2fc', 'size': 10, 'id': 'C00091', 'label': 'C00091', 'shape': 'dot'}\n",
      "{'color': '#97c2fc', 'size': 10, 'id': 'C22402', 'label': 'C22402', 'shape': 'dot'}\n",
      "{'color': '#97c2fc', 'size': 10, 'id': 'C22406', 'label': 'C22406', 'shape': 'dot'}\n",
      "C:\\Users\\xuvin\\py_repos\\CF_pathway_optimization\\src\\Scripts\\test.html\n"
     ]
    },
    {
     "data": {
      "text/html": [
       "\n",
       "        <iframe\n",
       "            width=\"100%\"\n",
       "            height=\"600px\"\n",
       "            src=\"C:\\Users\\xuvin\\py_repos\\CF_pathway_optimization\\src\\Scripts\\test.html\"\n",
       "            frameborder=\"0\"\n",
       "            allowfullscreen\n",
       "            \n",
       "        ></iframe>\n",
       "        "
      ],
      "text/plain": [
       "<IPython.lib.display.IFrame at 0x1f133ada390>"
      ]
     },
     "execution_count": 8,
     "metadata": {},
     "output_type": "execute_result"
    }
   ],
   "source": [
    "WCCM = WholeCellConsortiumModel()\n",
    "graph = WCCM.grow_graph_test()\n",
    "net = Network(notebook=True,cdn_resources=\"local\",width=\"100%\",height=\"600px\")\n",
    "net.from_nx(graph)\n",
    "print(net.nodes)\n",
    "for idx,node in enumerate(net.nodes):\n",
    "    print(node)\n",
    "    n_id = node['id']\n",
    "    node['size'] = 20\n",
    "    node['shape'] = 'image'\n",
    "    node['image'] = 'https://rest.kegg.jp/get/'+n_id+'/image'\n",
    "\n",
    "net.show(r'C:\\Users\\xuvin\\py_repos\\CF_pathway_optimization\\src\\Scripts\\test.html',local=True,notebook=True)"
   ]
  },
  {
   "cell_type": "code",
   "execution_count": 6,
   "metadata": {},
   "outputs": [
    {
     "name": "stdout",
     "output_type": "stream",
     "text": [
      "Warning: When  cdn_resources is 'local' jupyter notebook has issues displaying graphics on chrome/safari. Use cdn_resources='in_line' or cdn_resources='remote' if you have issues viewing graphics in a notebook.\n",
      "0\n",
      "1\n",
      "0\n",
      "2\n",
      "0\n",
      "3\n",
      "0\n",
      "4\n",
      "1\n",
      "2\n",
      "1\n",
      "3\n",
      "1\n",
      "4\n",
      "2\n",
      "3\n",
      "2\n",
      "4\n",
      "3\n",
      "4\n",
      "[{'color': '#97c2fc', 'size': 10, 'id': 0, 'label': 0, 'shape': 'dot'}, {'color': '#97c2fc', 'size': 10, 'id': 1, 'label': 1, 'shape': 'dot'}, {'color': '#97c2fc', 'size': 10, 'id': 2, 'label': 2, 'shape': 'dot'}, {'color': '#97c2fc', 'size': 10, 'id': 3, 'label': 3, 'shape': 'dot'}, {'color': '#97c2fc', 'size': 10, 'id': 4, 'label': 4, 'shape': 'dot'}]\n",
      "[{'color': '#97c2fc', 'size': 10, 'id': 0, 'label': 0, 'shape': 'dot'}, {'color': '#97c2fc', 'size': 10, 'id': 1, 'label': 1, 'shape': 'dot'}, {'color': '#97c2fc', 'size': 20, 'id': 2, 'label': 2, 'shape': 'image', 'image': 'https://rest.kegg.jp/get/C00001/image'}, {'color': '#97c2fc', 'size': 10, 'id': 3, 'label': 3, 'shape': 'dot'}, {'color': '#97c2fc', 'size': 10, 'id': 4, 'label': 4, 'shape': 'dot'}]\n",
      "C:\\Users\\xuvin\\py_repos\\CF_pathway_optimization\\src\\Scripts\\test2.html\n"
     ]
    },
    {
     "data": {
      "text/html": [
       "\n",
       "        <iframe\n",
       "            width=\"100%\"\n",
       "            height=\"600px\"\n",
       "            src=\"C:\\Users\\xuvin\\py_repos\\CF_pathway_optimization\\src\\Scripts\\test2.html\"\n",
       "            frameborder=\"0\"\n",
       "            allowfullscreen\n",
       "            \n",
       "        ></iframe>\n",
       "        "
      ],
      "text/plain": [
       "<IPython.lib.display.IFrame at 0x1f13386cd40>"
      ]
     },
     "execution_count": 6,
     "metadata": {},
     "output_type": "execute_result"
    }
   ],
   "source": [
    "net = Network(notebook=True,cdn_resources=\"local\",width=\"100%\",height=\"600px\")\n",
    "test = nx.complete_graph(5)\n",
    "net.from_nx(test)\n",
    "print(net.nodes)\n",
    "net.nodes[2]['size'] = 20\n",
    "net.nodes[2]['shape'] = 'image'\n",
    "net.nodes[2]['image'] = 'https://rest.kegg.jp/get/C00001/image'\n",
    "print(net.nodes)\n",
    "net.show(r'C:\\Users\\xuvin\\py_repos\\CF_pathway_optimization\\src\\Scripts\\test2.html')"
   ]
  }
 ],
 "metadata": {
  "kernelspec": {
   "display_name": "CF_pathway_optimization",
   "language": "python",
   "name": "python3"
  },
  "language_info": {
   "codemirror_mode": {
    "name": "ipython",
    "version": 3
   },
   "file_extension": ".py",
   "mimetype": "text/x-python",
   "name": "python",
   "nbconvert_exporter": "python",
   "pygments_lexer": "ipython3",
   "version": "3.12.6"
  }
 },
 "nbformat": 4,
 "nbformat_minor": 2
}
