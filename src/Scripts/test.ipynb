{
 "cells": [
  {
   "cell_type": "markdown",
   "metadata": {},
   "source": [
    "0. Import Packages"
   ]
  },
  {
   "cell_type": "code",
   "execution_count": null,
   "metadata": {},
   "outputs": [],
   "source": [
    "import sys\n",
    "sys.path.append('../Classes')\n",
    "sys.path.append('../Classes/Components')\n",
    "sys.path.append('../../Lib/site-packages')\n",
    "\n",
    "from pyvis.network import Network\n",
    "import numpy as np\n",
    "import pandas as pd\n",
    "import requests\n",
    "import re\n",
    "import json\n",
    "import networkx as nx\n",
    "from equilibrator_api import ComponentContribution\n",
    "\n",
    "from WholeCellConsortiumModel import WholeCellConsortiumModel\n",
    "from MetabolicPathwayNetworkGraph import MetabolicPathwayNetworkGraph\n",
    "from MPNG_Metabolite import MPNG_Metabolite\n",
    "from MPNG_Reaction import MPNG_Reaction\n",
    "from parse_KEGG_query import parse_KEGG"
   ]
  },
  {
   "cell_type": "markdown",
   "metadata": {},
   "source": [
    "Test querying all metabolites in KEGG"
   ]
  },
  {
   "cell_type": "code",
   "execution_count": null,
   "metadata": {},
   "outputs": [],
   "source": [
    "from io import StringIO\n",
    "import re\n",
    "\n",
    "req = requests.get('https://rest.kegg.jp/list/compound')\n",
    "metabolite_entries = []\n",
    "req_2 = StringIO(req.text)\n",
    "for line_level_1 in req_2:\n",
    "    if line_level_1[0] == 'C':\n",
    "        metabolite_entries.append(re.split('\\t',line_level_1.strip())[0].strip())\n",
    "\n",
    "req = requests.get('https://rest.kegg.jp/list/reaction')\n",
    "reaction_entries = []\n",
    "req_2 = StringIO(req.text)\n",
    "for line_level_1 in req_2:\n",
    "    if line_level_1[0] == 'R':\n",
    "        reaction_entries.append(re.split('\\t',line_level_1.strip())[0].strip())\n",
    "\n",
    "req = requests.get('https://rest.kegg.jp/list/enzyme')\n",
    "enzyme_entries = []\n",
    "req_2 = StringIO(req.text)\n",
    "for line_level_1 in req_2:\n",
    "    enzyme_id = re.split('\\t',line_level_1.strip())[0].strip()\n",
    "    if '.' in enzyme_id:\n",
    "        enzyme_entries.append(enzyme_id)\n",
    "\n",
    "print(metabolite_entries)"
   ]
  },
  {
   "cell_type": "code",
   "execution_count": null,
   "metadata": {},
   "outputs": [],
   "source": [
    "print(len(metabolite_entries))\n",
    "\n",
    "# [metabolites,[],[]] = parse_KEGG(metabolite_entries)\n",
    "# [[],reactions,[]] = parse_KEGG(reaction_entries)\n",
    "# [[],[],enzymes] = parse_KEGG(enzyme_entries)"
   ]
  },
  {
   "cell_type": "code",
   "execution_count": null,
   "metadata": {},
   "outputs": [],
   "source": [
    "def recursive_test(n:float):\n",
    "    if n > 100:\n",
    "        return n\n",
    "\n",
    "    return recursive_test(n+6)\n",
    "\n",
    "print(recursive_test(2))"
   ]
  },
  {
   "cell_type": "markdown",
   "metadata": {},
   "source": [
    "Tests on WCCM"
   ]
  },
  {
   "cell_type": "code",
   "execution_count": null,
   "metadata": {},
   "outputs": [
    {
     "name": "stdout",
     "output_type": "stream",
     "text": [
      "number of metabolites:  19409\n",
      "common [<MPNG_Metabolite.MPNG_Metabolite object at 0x00000174FE2F55E0>, <MPNG_Metabolite.MPNG_Metabolite object at 0x00000174FE2F72C0>, <MPNG_Metabolite.MPNG_Metabolite object at 0x00000174FE2CECF0>, <MPNG_Metabolite.MPNG_Metabolite object at 0x00000174FE279670>, <MPNG_Metabolite.MPNG_Metabolite object at 0x00000174FE6FF500>, <MPNG_Metabolite.MPNG_Metabolite object at 0x00000174FE708470>, <MPNG_Metabolite.MPNG_Metabolite object at 0x00000174FE714980>, <MPNG_Metabolite.MPNG_Metabolite object at 0x00000174FE720AD0>, <MPNG_Metabolite.MPNG_Metabolite object at 0x00000174FE72DA60>, <MPNG_Metabolite.MPNG_Metabolite object at 0x00000174FE73AA80>, <MPNG_Metabolite.MPNG_Metabolite object at 0x00000174FE7520C0>, <MPNG_Metabolite.MPNG_Metabolite object at 0x00000174FE757DD0>, <MPNG_Metabolite.MPNG_Metabolite object at 0x00000174FE75F200>, <MPNG_Metabolite.MPNG_Metabolite object at 0x00000174FE766E70>, <MPNG_Metabolite.MPNG_Metabolite object at 0x00000174FE770650>, <MPNG_Metabolite.MPNG_Metabolite object at 0x00000174FE770830>, <MPNG_Metabolite.MPNG_Metabolite object at 0x00000174FE779B50>, <MPNG_Metabolite.MPNG_Metabolite object at 0x00000174FE77E8A0>]\n",
      "['C00469', 'C00033']\n",
      "leaves length 2\n",
      "Level 1 completed.\n",
      "leaves length 264\n",
      "Level 2 completed.\n",
      "leaves length 3459\n",
      "'C01330' is not in list\n",
      "'C01330' is not in list\n",
      "Level 3 completed.\n",
      "leaves length 3590\n",
      "Level 4 completed.\n",
      "leaves length 911\n",
      "Level 5 completed.\n"
     ]
    },
    {
     "ename": "KeyError",
     "evalue": "'C00024'",
     "output_type": "error",
     "traceback": [
      "\u001b[1;31m---------------------------------------------------------------------------\u001b[0m",
      "\u001b[1;31mKeyError\u001b[0m                                  Traceback (most recent call last)",
      "Cell \u001b[1;32mIn[1], line 22\u001b[0m\n\u001b[0;32m     20\u001b[0m wccm\u001b[38;5;241m.\u001b[39mseek_optimal_pathway(\u001b[38;5;124m'\u001b[39m\u001b[38;5;124mtest\u001b[39m\u001b[38;5;124m'\u001b[39m,[\u001b[38;5;124m'\u001b[39m\u001b[38;5;124mC01585\u001b[39m\u001b[38;5;124m'\u001b[39m],[\u001b[38;5;124m'\u001b[39m\u001b[38;5;124mC00469\u001b[39m\u001b[38;5;124m'\u001b[39m,\u001b[38;5;124m'\u001b[39m\u001b[38;5;124mC00033\u001b[39m\u001b[38;5;124m'\u001b[39m])\n\u001b[0;32m     21\u001b[0m test \u001b[38;5;241m=\u001b[39m wccm\u001b[38;5;241m.\u001b[39mprune_graph(\u001b[38;5;124m'\u001b[39m\u001b[38;5;124mtest\u001b[39m\u001b[38;5;124m'\u001b[39m,\u001b[38;5;124m'\u001b[39m\u001b[38;5;124mC01585\u001b[39m\u001b[38;5;124m'\u001b[39m,[\u001b[38;5;124m'\u001b[39m\u001b[38;5;124mC00469\u001b[39m\u001b[38;5;124m'\u001b[39m,\u001b[38;5;124m'\u001b[39m\u001b[38;5;124mC00033\u001b[39m\u001b[38;5;124m'\u001b[39m])\n\u001b[1;32m---> 22\u001b[0m test_graph_2 \u001b[38;5;241m=\u001b[39m \u001b[43mwccm\u001b[49m\u001b[38;5;241;43m.\u001b[39;49m\u001b[43mcalculate_graph_metrics\u001b[49m\u001b[43m(\u001b[49m\u001b[38;5;124;43m'\u001b[39;49m\u001b[38;5;124;43mtest\u001b[39;49m\u001b[38;5;124;43m'\u001b[39;49m\u001b[43m,\u001b[49m\u001b[43m[\u001b[49m\u001b[38;5;124;43m'\u001b[39;49m\u001b[38;5;124;43mC00024\u001b[39;49m\u001b[38;5;124;43m'\u001b[39;49m\u001b[43m]\u001b[49m\u001b[43m,\u001b[49m\u001b[43m[\u001b[49m\u001b[38;5;124;43m'\u001b[39;49m\u001b[38;5;124;43mC00469\u001b[39;49m\u001b[38;5;124;43m'\u001b[39;49m\u001b[43m]\u001b[49m\u001b[43m,\u001b[49m\u001b[43m[\u001b[49m\u001b[43m]\u001b[49m\u001b[43m,\u001b[49m\u001b[43m[\u001b[49m\u001b[43m]\u001b[49m\u001b[43m)\u001b[49m\n\u001b[0;32m     23\u001b[0m \u001b[38;5;28mprint\u001b[39m(test_graph_2\u001b[38;5;241m.\u001b[39mmass_balance_sln)\n\u001b[0;32m     24\u001b[0m wccm\u001b[38;5;241m.\u001b[39mvisualize_graph(\u001b[38;5;124m'\u001b[39m\u001b[38;5;124mtest\u001b[39m\u001b[38;5;124m'\u001b[39m)\n",
      "File \u001b[1;32mc:\\Users\\xuvin\\py_repos\\CF_pathway_optimization\\src\\Scripts\\../Classes\\WholeCellConsortiumModel.py:200\u001b[0m, in \u001b[0;36mWholeCellConsortiumModel.calculate_graph_metrics\u001b[1;34m(self, network_name, objective_meta_entry, boundary_metabolite_entries, root_metabolite_entries, target_metabolite_entries)\u001b[0m\n\u001b[0;32m    198\u001b[0m \u001b[38;5;28;01mdef\u001b[39;00m \u001b[38;5;21mcalculate_graph_metrics\u001b[39m(\u001b[38;5;28mself\u001b[39m,network_name:\u001b[38;5;28mstr\u001b[39m,objective_meta_entry:\u001b[38;5;28mstr\u001b[39m,boundary_metabolite_entries:\u001b[38;5;28mlist\u001b[39m[\u001b[38;5;28mstr\u001b[39m],\n\u001b[0;32m    199\u001b[0m                             root_metabolite_entries:\u001b[38;5;28mlist\u001b[39m[\u001b[38;5;28mstr\u001b[39m],target_metabolite_entries:\u001b[38;5;28mlist\u001b[39m[\u001b[38;5;28mstr\u001b[39m]) \u001b[38;5;241m-\u001b[39m\u001b[38;5;241m>\u001b[39m \u001b[38;5;28;01mNone\u001b[39;00m:\n\u001b[1;32m--> 200\u001b[0m     \u001b[38;5;28;43mself\u001b[39;49m\u001b[38;5;241;43m.\u001b[39;49m\u001b[43m__graphs\u001b[49m\u001b[43m[\u001b[49m\u001b[43mnetwork_name\u001b[49m\u001b[43m]\u001b[49m\u001b[38;5;241;43m.\u001b[39;49m\u001b[43mrun_mass_balance\u001b[49m\u001b[43m(\u001b[49m\u001b[43mobjective_meta_entry\u001b[49m\u001b[43m,\u001b[49m\u001b[43mboundary_metabolite_entries\u001b[49m\u001b[43m,\u001b[49m\u001b[38;5;28;43mself\u001b[39;49m\u001b[38;5;241;43m.\u001b[39;49m\u001b[43m__metabolites\u001b[49m\u001b[43m,\u001b[49m\u001b[38;5;28;43mself\u001b[39;49m\u001b[38;5;241;43m.\u001b[39;49m\u001b[43m__reactions\u001b[49m\u001b[43m)\u001b[49m\n\u001b[0;32m    202\u001b[0m     \u001b[38;5;66;03m# shortest_paths = self.__graph[network_name].find_shortest_paths(root_metabolite_entries,target_metabolite_entries)\u001b[39;00m\n\u001b[0;32m    204\u001b[0m     \u001b[38;5;28;01mreturn\u001b[39;00m \u001b[38;5;28mself\u001b[39m\u001b[38;5;241m.\u001b[39m__graphs[network_name]\n",
      "File \u001b[1;32mc:\\Users\\xuvin\\py_repos\\CF_pathway_optimization\\src\\Scripts\\../Classes\\MetabolicPathwayNetworkGraph.py:573\u001b[0m, in \u001b[0;36mMetabolicPathwayNetworkGraph.run_mass_balance\u001b[1;34m(self, objective_metabolite_entries, boundary_metabolite_entries, all_metas, all_rxns)\u001b[0m\n\u001b[0;32m    571\u001b[0m \u001b[38;5;28;01mdef\u001b[39;00m \u001b[38;5;21mrun_mass_balance\u001b[39m(\u001b[38;5;28mself\u001b[39m,objective_metabolite_entries:\u001b[38;5;28mlist\u001b[39m[\u001b[38;5;28mstr\u001b[39m],boundary_metabolite_entries:\u001b[38;5;28mlist\u001b[39m[\u001b[38;5;28mstr\u001b[39m],all_metas:\u001b[38;5;28mdict\u001b[39m[\u001b[38;5;28mstr\u001b[39m,MPNG_Metabolite],\n\u001b[0;32m    572\u001b[0m                      all_rxns:\u001b[38;5;28mdict\u001b[39m[\u001b[38;5;28mstr\u001b[39m,MPNG_Reaction]) \u001b[38;5;241m-\u001b[39m\u001b[38;5;241m>\u001b[39m Solution:\n\u001b[1;32m--> 573\u001b[0m     \u001b[38;5;28;43mself\u001b[39;49m\u001b[38;5;241;43m.\u001b[39;49m\u001b[43m__find_unsteady_components\u001b[49m\u001b[43m(\u001b[49m\u001b[43mobjective_metabolite_entries\u001b[49m\u001b[43m,\u001b[49m\u001b[43mboundary_metabolite_entries\u001b[49m\u001b[43m,\u001b[49m\u001b[43mall_metas\u001b[49m\u001b[43m,\u001b[49m\u001b[43mall_rxns\u001b[49m\u001b[43m)\u001b[49m\n\u001b[0;32m    574\u001b[0m     \u001b[38;5;28;01mreturn\u001b[39;00m \u001b[38;5;28mself\u001b[39m\u001b[38;5;241m.\u001b[39m__COBRA_model\u001b[38;5;241m.\u001b[39moptimize()\n",
      "File \u001b[1;32mc:\\Users\\xuvin\\py_repos\\CF_pathway_optimization\\src\\Scripts\\../Classes\\MetabolicPathwayNetworkGraph.py:523\u001b[0m, in \u001b[0;36mMetabolicPathwayNetworkGraph.__find_unsteady_components\u001b[1;34m(self, objective_meta_entry, boundary_metabolite_entries, all_metas, all_rxns)\u001b[0m\n\u001b[0;32m    521\u001b[0m \u001b[38;5;28mself\u001b[39m\u001b[38;5;241m.\u001b[39m__COBRA_model\u001b[38;5;241m.\u001b[39mremove_reactions(boundary_rxns)\n\u001b[0;32m    522\u001b[0m \u001b[38;5;28;01mfor\u001b[39;00m meta \u001b[38;5;129;01min\u001b[39;00m boundary_metabolite_entries:\n\u001b[1;32m--> 523\u001b[0m     \u001b[38;5;28mself\u001b[39m\u001b[38;5;241m.\u001b[39m__COBRA_model\u001b[38;5;241m.\u001b[39madd_boundary(\u001b[38;5;28;43mself\u001b[39;49m\u001b[38;5;241;43m.\u001b[39;49m\u001b[43m__COBRA_model\u001b[49m\u001b[38;5;241;43m.\u001b[39;49m\u001b[43mmetabolites\u001b[49m\u001b[38;5;241;43m.\u001b[39;49m\u001b[43mget_by_id\u001b[49m\u001b[43m(\u001b[49m\u001b[43mmeta\u001b[49m\u001b[43m)\u001b[49m,\u001b[38;5;28mtype\u001b[39m\u001b[38;5;241m=\u001b[39m\u001b[38;5;124m'\u001b[39m\u001b[38;5;124msink\u001b[39m\u001b[38;5;124m'\u001b[39m,lb\u001b[38;5;241m=\u001b[39m\u001b[38;5;28;01mNone\u001b[39;00m,ub\u001b[38;5;241m=\u001b[39m\u001b[38;5;28;01mNone\u001b[39;00m)\n\u001b[0;32m    524\u001b[0m \u001b[38;5;28mself\u001b[39m\u001b[38;5;241m.\u001b[39m__COBRA_model\u001b[38;5;241m.\u001b[39mremove_metabolites([meta \u001b[38;5;28;01mfor\u001b[39;00m meta \u001b[38;5;129;01min\u001b[39;00m \u001b[38;5;28mself\u001b[39m\u001b[38;5;241m.\u001b[39m__COBRA_model\u001b[38;5;241m.\u001b[39mmetabolites \u001b[38;5;28;01mif\u001b[39;00m \u001b[38;5;28mlen\u001b[39m(meta\u001b[38;5;241m.\u001b[39mreactions) \u001b[38;5;241m==\u001b[39m \u001b[38;5;241m0\u001b[39m])\n\u001b[0;32m    526\u001b[0m boundary_metabolite_result \u001b[38;5;241m=\u001b[39m \u001b[38;5;28mself\u001b[39m\u001b[38;5;241m.\u001b[39m__recursive_extend(objective_meta\u001b[38;5;241m=\u001b[39mobjective_meta_entry[\u001b[38;5;241m0\u001b[39m],\n\u001b[0;32m    527\u001b[0m                                                      unbal_metas\u001b[38;5;241m=\u001b[39m\u001b[38;5;28mlist\u001b[39m(\u001b[38;5;28mmap\u001b[39m(\u001b[38;5;28;01mlambda\u001b[39;00m x: x\u001b[38;5;241m.\u001b[39mentry,\u001b[38;5;28mself\u001b[39m\u001b[38;5;241m.\u001b[39mget_metabolites(\u001b[38;5;124m'\u001b[39m\u001b[38;5;124mall\u001b[39m\u001b[38;5;124m'\u001b[39m))),\n\u001b[0;32m    528\u001b[0m                                                      central_metas\u001b[38;5;241m=\u001b[39m\u001b[38;5;28mlist\u001b[39m(\u001b[38;5;28mmap\u001b[39m(\u001b[38;5;28;01mlambda\u001b[39;00m x: x\u001b[38;5;241m.\u001b[39mentry,\u001b[38;5;28mself\u001b[39m\u001b[38;5;241m.\u001b[39mget_metabolites(\u001b[38;5;124m'\u001b[39m\u001b[38;5;124mall\u001b[39m\u001b[38;5;124m'\u001b[39m))),\n\u001b[1;32m   (...)\u001b[0m\n\u001b[0;32m    536\u001b[0m                                                      ct\u001b[38;5;241m=\u001b[39m\u001b[38;5;241m0\u001b[39m,\n\u001b[0;32m    537\u001b[0m                                                      max_iter\u001b[38;5;241m=\u001b[39m\u001b[38;5;241m10\u001b[39m)\n",
      "File \u001b[1;32mc:\\Users\\xuvin\\py_repos\\CF_pathway_optimization\\Lib\\site-packages\\cobra\\core\\dictlist.py:73\u001b[0m, in \u001b[0;36mDictList.get_by_id\u001b[1;34m(self, id)\u001b[0m\n\u001b[0;32m     71\u001b[0m \u001b[38;5;28;01mdef\u001b[39;00m \u001b[38;5;21mget_by_id\u001b[39m(\u001b[38;5;28mself\u001b[39m, \u001b[38;5;28mid\u001b[39m: Union[Object, \u001b[38;5;28mstr\u001b[39m]) \u001b[38;5;241m-\u001b[39m\u001b[38;5;241m>\u001b[39m Object:\n\u001b[0;32m     72\u001b[0m \u001b[38;5;250m    \u001b[39m\u001b[38;5;124;03m\"\"\"Return the element with a matching id.\"\"\"\u001b[39;00m\n\u001b[1;32m---> 73\u001b[0m     \u001b[38;5;28;01mreturn\u001b[39;00m \u001b[38;5;28mlist\u001b[39m\u001b[38;5;241m.\u001b[39m\u001b[38;5;21m__getitem__\u001b[39m(\u001b[38;5;28mself\u001b[39m, \u001b[38;5;28;43mself\u001b[39;49m\u001b[38;5;241;43m.\u001b[39;49m\u001b[43m_dict\u001b[49m\u001b[43m[\u001b[49m\u001b[38;5;28;43mid\u001b[39;49m\u001b[43m]\u001b[49m)\n",
      "\u001b[1;31mKeyError\u001b[0m: 'C00024'"
     ]
    }
   ],
   "source": [
    "# with open('metabolites.json', 'w', encoding='utf-8') as f:\n",
    "#     json.dump(list(map(lambda x: x.toJSON(),metabolites)), f, ensure_ascii=False, indent=4)\n",
    "# with open('reactions.json', 'w', encoding='utf-8') as f:\n",
    "#     json.dump(list(map(lambda x: x.toJSON(),reactions)), f, ensure_ascii=False, indent=4)\n",
    "# with open('enzymes.json', 'w', encoding='utf-8') as f:\n",
    "#     json.dump(list(map(lambda x: x.toJSON(),enzymes)), f, ensure_ascii=False, indent=4)\n",
    "\n",
    "import sys\n",
    "sys.path.append('../Classes')\n",
    "sys.path.append('../Classes/Components')\n",
    "sys.path.append('../../Lib/site-packages')\n",
    "\n",
    "from WholeCellConsortiumModel import WholeCellConsortiumModel\n",
    "from MetabolicPathwayNetworkGraph import MetabolicPathwayNetworkGraph\n",
    "from MPNG_Metabolite import MPNG_Metabolite\n",
    "from MPNG_Reaction import MPNG_Reaction\n",
    "from parse_KEGG_query import parse_KEGG\n",
    "\n",
    "wccm = WholeCellConsortiumModel()\n",
    "wccm.seek_optimal_pathway('test',['C00024'],['C00469'])\n",
    "test = wccm.prune_graph('test','C00024',['C00469'])\n",
    "test_graph_2 = wccm.calculate_graph_metrics('test',['C00024'],['C00469'],[],[])\n",
    "print(test_graph_2.mass_balance_sln)\n",
    "wccm.visualize_graph('test')"
   ]
  },
  {
   "cell_type": "markdown",
   "metadata": {},
   "source": [
    "Test for eQuilibrator"
   ]
  },
  {
   "cell_type": "code",
   "execution_count": null,
   "metadata": {},
   "outputs": [],
   "source": [
    "cc = ComponentContribution()\n",
    "formate_compound = cc.get_compound('kegg:C00058')\n",
    "print(dir(formate_compound))"
   ]
  },
  {
   "cell_type": "markdown",
   "metadata": {},
   "source": [
    "Test for parse_KEGG()"
   ]
  },
  {
   "cell_type": "code",
   "execution_count": null,
   "metadata": {},
   "outputs": [],
   "source": [
    "# test = parse_KEGG(['3.5.1.68'])\n",
    "# test = parse_KEGG(['R00134'],cc)\n",
    "# test = parse_KEGG(['C00005'],cc)"
   ]
  },
  {
   "cell_type": "markdown",
   "metadata": {},
   "source": [
    "Test for usage of nx.Graph"
   ]
  },
  {
   "cell_type": "code",
   "execution_count": null,
   "metadata": {},
   "outputs": [],
   "source": [
    "# test = nx.Graph()\n",
    "# meta_1 = MPNG_Metabolite('a',['a','b'],'test',1.23,['asdf','asdf'])\n",
    "# meta_2 = MPNG_Metabolite('A',['a','b'],'test',1.23,['asdf','asdf'])\n",
    "# test.add_node(meta_1)\n",
    "# test.add_node(meta_2)\n",
    "# test.add_edge(meta_1,meta_2,f_stoich=1,r_stoich=-1)\n",
    "# print(test)\n",
    "# print(test.edges(data=True))\n"
   ]
  },
  {
   "cell_type": "markdown",
   "metadata": {},
   "source": [
    "Test for creating a WholeCellConsortiumModel class and creating a new graph"
   ]
  },
  {
   "cell_type": "code",
   "execution_count": null,
   "metadata": {},
   "outputs": [],
   "source": [
    "WCCM = WholeCellConsortiumModel()\n",
    "graph: MetabolicPathwayNetworkGraph = WCCM.grow_graph_test()\n",
    "\n",
    "# HTML(r'C:\\Users\\xuvin\\py_repos\\CF_pathway_optimization\\src\\Scripts\\test.html')"
   ]
  },
  {
   "cell_type": "code",
   "execution_count": null,
   "metadata": {},
   "outputs": [],
   "source": [
    "potential_targets = ['C00024','C00010','C00332','C00136','C05269','C01144','C00003','C00004','C00080','C05268','C00877','C00001','C05271','C00138','C00139','C00005','C05270','C00006','C00033','C00246','C01585','C00058','C00011','C00469','C00084','C00282']\n",
    "for x in potential_targets:\n",
    "    if x in graph.metabolites.keys():\n",
    "        print(x+' in current network: '+str(x in graph.metabolites.keys()))\n",
    "for x in graph.metabolites.keys():\n",
    "    print(x)\n",
    "print(len(graph.metabolites.keys()))"
   ]
  },
  {
   "cell_type": "code",
   "execution_count": null,
   "metadata": {},
   "outputs": [],
   "source": [
    "net = Network(notebook=True,cdn_resources=\"local\",width=\"100%\",height=\"600px\")\n",
    "test = nx.complete_graph(5)\n",
    "net.from_nx(test)\n",
    "print(net.nodes)\n",
    "net.nodes[2]['size'] = 20\n",
    "net.nodes[2]['shape'] = 'image'\n",
    "net.nodes[2]['image'] = 'https://rest.kegg.jp/get/C00001/image'\n",
    "print(net.nodes)\n",
    "net.show(r'C:\\Users\\xuvin\\py_repos\\CF_pathway_optimization\\src\\Scripts\\test2.html')"
   ]
  }
 ],
 "metadata": {
  "kernelspec": {
   "display_name": "CF_pathway_optimization",
   "language": "python",
   "name": "python3"
  },
  "language_info": {
   "codemirror_mode": {
    "name": "ipython",
    "version": 3
   },
   "file_extension": ".py",
   "mimetype": "text/x-python",
   "name": "python",
   "nbconvert_exporter": "python",
   "pygments_lexer": "ipython3",
   "version": "3.12.6"
  }
 },
 "nbformat": 4,
 "nbformat_minor": 2
}
